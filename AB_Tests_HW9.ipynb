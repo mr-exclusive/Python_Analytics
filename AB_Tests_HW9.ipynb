{
  "nbformat": 4,
  "nbformat_minor": 0,
  "metadata": {
    "colab": {
      "provenance": []
    },
    "kernelspec": {
      "name": "python3",
      "display_name": "Python 3"
    },
    "language_info": {
      "name": "python"
    }
  },
  "cells": [
    {
      "cell_type": "code",
      "execution_count": 19,
      "metadata": {
        "id": "3LES-TFGZqYi"
      },
      "outputs": [],
      "source": [
        "import pandas as pd\n",
        "import numpy as np\n",
        "from statsmodels.stats import proportion"
      ]
    },
    {
      "cell_type": "code",
      "source": [
        "data = pd.read_excel('dataset_hw9.xlsx')"
      ],
      "metadata": {
        "id": "l1b5jpFE5gs9"
      },
      "execution_count": 2,
      "outputs": []
    },
    {
      "cell_type": "code",
      "source": [
        "data.head()"
      ],
      "metadata": {
        "colab": {
          "base_uri": "https://localhost:8080/",
          "height": 206
        },
        "id": "fHuXzh7l56QC",
        "outputId": "dc544903-3c91-4687-b80d-e332c233c251"
      },
      "execution_count": 3,
      "outputs": [
        {
          "output_type": "execute_result",
          "data": {
            "text/plain": [
              "   userid  version  sum_gamerounds  retention_1  retention_7\n",
              "0     116  gate_30               3            0            0\n",
              "1     337  gate_30              38            1            0\n",
              "2     377  gate_40             165            1            0\n",
              "3     483  gate_40               1            0            0\n",
              "4     488  gate_40             179            1            1"
            ],
            "text/html": [
              "\n",
              "  <div id=\"df-3ce3409d-c41a-4cf3-be19-71d8da41bd20\">\n",
              "    <div class=\"colab-df-container\">\n",
              "      <div>\n",
              "<style scoped>\n",
              "    .dataframe tbody tr th:only-of-type {\n",
              "        vertical-align: middle;\n",
              "    }\n",
              "\n",
              "    .dataframe tbody tr th {\n",
              "        vertical-align: top;\n",
              "    }\n",
              "\n",
              "    .dataframe thead th {\n",
              "        text-align: right;\n",
              "    }\n",
              "</style>\n",
              "<table border=\"1\" class=\"dataframe\">\n",
              "  <thead>\n",
              "    <tr style=\"text-align: right;\">\n",
              "      <th></th>\n",
              "      <th>userid</th>\n",
              "      <th>version</th>\n",
              "      <th>sum_gamerounds</th>\n",
              "      <th>retention_1</th>\n",
              "      <th>retention_7</th>\n",
              "    </tr>\n",
              "  </thead>\n",
              "  <tbody>\n",
              "    <tr>\n",
              "      <th>0</th>\n",
              "      <td>116</td>\n",
              "      <td>gate_30</td>\n",
              "      <td>3</td>\n",
              "      <td>0</td>\n",
              "      <td>0</td>\n",
              "    </tr>\n",
              "    <tr>\n",
              "      <th>1</th>\n",
              "      <td>337</td>\n",
              "      <td>gate_30</td>\n",
              "      <td>38</td>\n",
              "      <td>1</td>\n",
              "      <td>0</td>\n",
              "    </tr>\n",
              "    <tr>\n",
              "      <th>2</th>\n",
              "      <td>377</td>\n",
              "      <td>gate_40</td>\n",
              "      <td>165</td>\n",
              "      <td>1</td>\n",
              "      <td>0</td>\n",
              "    </tr>\n",
              "    <tr>\n",
              "      <th>3</th>\n",
              "      <td>483</td>\n",
              "      <td>gate_40</td>\n",
              "      <td>1</td>\n",
              "      <td>0</td>\n",
              "      <td>0</td>\n",
              "    </tr>\n",
              "    <tr>\n",
              "      <th>4</th>\n",
              "      <td>488</td>\n",
              "      <td>gate_40</td>\n",
              "      <td>179</td>\n",
              "      <td>1</td>\n",
              "      <td>1</td>\n",
              "    </tr>\n",
              "  </tbody>\n",
              "</table>\n",
              "</div>\n",
              "      <button class=\"colab-df-convert\" onclick=\"convertToInteractive('df-3ce3409d-c41a-4cf3-be19-71d8da41bd20')\"\n",
              "              title=\"Convert this dataframe to an interactive table.\"\n",
              "              style=\"display:none;\">\n",
              "        \n",
              "  <svg xmlns=\"http://www.w3.org/2000/svg\" height=\"24px\"viewBox=\"0 0 24 24\"\n",
              "       width=\"24px\">\n",
              "    <path d=\"M0 0h24v24H0V0z\" fill=\"none\"/>\n",
              "    <path d=\"M18.56 5.44l.94 2.06.94-2.06 2.06-.94-2.06-.94-.94-2.06-.94 2.06-2.06.94zm-11 1L8.5 8.5l.94-2.06 2.06-.94-2.06-.94L8.5 2.5l-.94 2.06-2.06.94zm10 10l.94 2.06.94-2.06 2.06-.94-2.06-.94-.94-2.06-.94 2.06-2.06.94z\"/><path d=\"M17.41 7.96l-1.37-1.37c-.4-.4-.92-.59-1.43-.59-.52 0-1.04.2-1.43.59L10.3 9.45l-7.72 7.72c-.78.78-.78 2.05 0 2.83L4 21.41c.39.39.9.59 1.41.59.51 0 1.02-.2 1.41-.59l7.78-7.78 2.81-2.81c.8-.78.8-2.07 0-2.86zM5.41 20L4 18.59l7.72-7.72 1.47 1.35L5.41 20z\"/>\n",
              "  </svg>\n",
              "      </button>\n",
              "      \n",
              "  <style>\n",
              "    .colab-df-container {\n",
              "      display:flex;\n",
              "      flex-wrap:wrap;\n",
              "      gap: 12px;\n",
              "    }\n",
              "\n",
              "    .colab-df-convert {\n",
              "      background-color: #E8F0FE;\n",
              "      border: none;\n",
              "      border-radius: 50%;\n",
              "      cursor: pointer;\n",
              "      display: none;\n",
              "      fill: #1967D2;\n",
              "      height: 32px;\n",
              "      padding: 0 0 0 0;\n",
              "      width: 32px;\n",
              "    }\n",
              "\n",
              "    .colab-df-convert:hover {\n",
              "      background-color: #E2EBFA;\n",
              "      box-shadow: 0px 1px 2px rgba(60, 64, 67, 0.3), 0px 1px 3px 1px rgba(60, 64, 67, 0.15);\n",
              "      fill: #174EA6;\n",
              "    }\n",
              "\n",
              "    [theme=dark] .colab-df-convert {\n",
              "      background-color: #3B4455;\n",
              "      fill: #D2E3FC;\n",
              "    }\n",
              "\n",
              "    [theme=dark] .colab-df-convert:hover {\n",
              "      background-color: #434B5C;\n",
              "      box-shadow: 0px 1px 3px 1px rgba(0, 0, 0, 0.15);\n",
              "      filter: drop-shadow(0px 1px 2px rgba(0, 0, 0, 0.3));\n",
              "      fill: #FFFFFF;\n",
              "    }\n",
              "  </style>\n",
              "\n",
              "      <script>\n",
              "        const buttonEl =\n",
              "          document.querySelector('#df-3ce3409d-c41a-4cf3-be19-71d8da41bd20 button.colab-df-convert');\n",
              "        buttonEl.style.display =\n",
              "          google.colab.kernel.accessAllowed ? 'block' : 'none';\n",
              "\n",
              "        async function convertToInteractive(key) {\n",
              "          const element = document.querySelector('#df-3ce3409d-c41a-4cf3-be19-71d8da41bd20');\n",
              "          const dataTable =\n",
              "            await google.colab.kernel.invokeFunction('convertToInteractive',\n",
              "                                                     [key], {});\n",
              "          if (!dataTable) return;\n",
              "\n",
              "          const docLinkHtml = 'Like what you see? Visit the ' +\n",
              "            '<a target=\"_blank\" href=https://colab.research.google.com/notebooks/data_table.ipynb>data table notebook</a>'\n",
              "            + ' to learn more about interactive tables.';\n",
              "          element.innerHTML = '';\n",
              "          dataTable['output_type'] = 'display_data';\n",
              "          await google.colab.output.renderOutput(dataTable, element);\n",
              "          const docLink = document.createElement('div');\n",
              "          docLink.innerHTML = docLinkHtml;\n",
              "          element.appendChild(docLink);\n",
              "        }\n",
              "      </script>\n",
              "    </div>\n",
              "  </div>\n",
              "  "
            ]
          },
          "metadata": {},
          "execution_count": 3
        }
      ]
    },
    {
      "cell_type": "code",
      "source": [
        "data.info()"
      ],
      "metadata": {
        "colab": {
          "base_uri": "https://localhost:8080/",
          "height": 0
        },
        "id": "Z2KBVOb55--D",
        "outputId": "cc7d0076-9eca-4f0e-fac2-fcffcff3b33e"
      },
      "execution_count": 4,
      "outputs": [
        {
          "output_type": "stream",
          "name": "stdout",
          "text": [
            "<class 'pandas.core.frame.DataFrame'>\n",
            "RangeIndex: 90189 entries, 0 to 90188\n",
            "Data columns (total 5 columns):\n",
            " #   Column          Non-Null Count  Dtype \n",
            "---  ------          --------------  ----- \n",
            " 0   userid          90189 non-null  int64 \n",
            " 1   version         90189 non-null  object\n",
            " 2   sum_gamerounds  90189 non-null  int64 \n",
            " 3   retention_1     90189 non-null  int64 \n",
            " 4   retention_7     90189 non-null  int64 \n",
            "dtypes: int64(4), object(1)\n",
            "memory usage: 3.4+ MB\n"
          ]
        }
      ]
    },
    {
      "cell_type": "code",
      "source": [
        "data.isna().sum()"
      ],
      "metadata": {
        "colab": {
          "base_uri": "https://localhost:8080/",
          "height": 0
        },
        "id": "rkfvsnF1GF9a",
        "outputId": "3b420cbc-ae40-4d75-a91f-60f2de6e3ac2"
      },
      "execution_count": 18,
      "outputs": [
        {
          "output_type": "execute_result",
          "data": {
            "text/plain": [
              "userid            0\n",
              "version           0\n",
              "sum_gamerounds    0\n",
              "retention_1       0\n",
              "retention_7       0\n",
              "dtype: int64"
            ]
          },
          "metadata": {},
          "execution_count": 18
        }
      ]
    },
    {
      "cell_type": "code",
      "source": [
        "data.userid.count()"
      ],
      "metadata": {
        "colab": {
          "base_uri": "https://localhost:8080/",
          "height": 0
        },
        "id": "wCZknqMz6RQL",
        "outputId": "8da2187b-3c27-41c7-82cd-830d96934321"
      },
      "execution_count": 6,
      "outputs": [
        {
          "output_type": "execute_result",
          "data": {
            "text/plain": [
              "90189"
            ]
          },
          "metadata": {},
          "execution_count": 6
        }
      ]
    },
    {
      "cell_type": "code",
      "source": [
        "data.userid.nunique()"
      ],
      "metadata": {
        "colab": {
          "base_uri": "https://localhost:8080/",
          "height": 0
        },
        "id": "L4IGhT3M6V1v",
        "outputId": "12e9ce24-0514-46c0-a4af-adb1ad363083"
      },
      "execution_count": 7,
      "outputs": [
        {
          "output_type": "execute_result",
          "data": {
            "text/plain": [
              "90189"
            ]
          },
          "metadata": {},
          "execution_count": 7
        }
      ]
    },
    {
      "cell_type": "markdown",
      "source": [
        "> Количество уникальных айдишников пользователей совпадает с общим количеством записей в данных, это означает что у нас нет дубликатов (например, одних и тех же пользователей в тестовой и контрольной группе)."
      ],
      "metadata": {
        "id": "V7sB8HcG6hpv"
      }
    },
    {
      "cell_type": "code",
      "source": [
        "data.retention_1.unique(), data.retention_7.unique()"
      ],
      "metadata": {
        "colab": {
          "base_uri": "https://localhost:8080/",
          "height": 0
        },
        "id": "YCe3ZCS868xQ",
        "outputId": "196223ce-f6f2-4c0f-802e-69a3810fabc0"
      },
      "execution_count": 8,
      "outputs": [
        {
          "output_type": "execute_result",
          "data": {
            "text/plain": [
              "(array([0, 1]), array([0, 1]))"
            ]
          },
          "metadata": {},
          "execution_count": 8
        }
      ]
    },
    {
      "cell_type": "code",
      "source": [
        "data.sum_gamerounds.min(), data.sum_gamerounds.max()"
      ],
      "metadata": {
        "colab": {
          "base_uri": "https://localhost:8080/",
          "height": 0
        },
        "id": "kpNFTZJ57WOM",
        "outputId": "65582c48-a98e-471a-99ed-e3845147da8b"
      },
      "execution_count": 9,
      "outputs": [
        {
          "output_type": "execute_result",
          "data": {
            "text/plain": [
              "(0, 49854)"
            ]
          },
          "metadata": {},
          "execution_count": 9
        }
      ]
    },
    {
      "cell_type": "code",
      "source": [
        "data.version.unique()"
      ],
      "metadata": {
        "colab": {
          "base_uri": "https://localhost:8080/",
          "height": 0
        },
        "id": "MyR97sCi7gOW",
        "outputId": "c7d547e0-f9d5-4974-fe24-f3f842451a0b"
      },
      "execution_count": 10,
      "outputs": [
        {
          "output_type": "execute_result",
          "data": {
            "text/plain": [
              "array(['gate_30', 'gate_40'], dtype=object)"
            ]
          },
          "metadata": {},
          "execution_count": 10
        }
      ]
    },
    {
      "cell_type": "markdown",
      "source": [
        "> Данные чистые, в колонках содержатся только ожидаемые значения, можно продолжать анализ."
      ],
      "metadata": {
        "id": "_Mv-70eN7yhE"
      }
    },
    {
      "cell_type": "code",
      "source": [
        "group_a = data.query('version == \"gate_30\"')\n",
        "group_b = data.query('version == \"gate_40\"')\n",
        "n_a = group_a.shape[0]\n",
        "n_b = group_b.shape[0]\n",
        "n_a, n_b"
      ],
      "metadata": {
        "colab": {
          "base_uri": "https://localhost:8080/",
          "height": 0
        },
        "id": "CVoZf9PH9UmN",
        "outputId": "789718ac-18fe-4345-cb17-e16edc65c35c"
      },
      "execution_count": 15,
      "outputs": [
        {
          "output_type": "execute_result",
          "data": {
            "text/plain": [
              "(44700, 45489)"
            ]
          },
          "metadata": {},
          "execution_count": 15
        }
      ]
    },
    {
      "cell_type": "markdown",
      "source": [
        "> Выборки примерно одинаковые, в тесте на 789 игроков больше."
      ],
      "metadata": {
        "id": "vFTfWqCR-6nW"
      }
    },
    {
      "cell_type": "code",
      "source": [
        "a_1 = group_a.retention_1.sum()\n",
        "b_1 = group_b.retention_1.sum()\n",
        "a_1, b_1"
      ],
      "metadata": {
        "colab": {
          "base_uri": "https://localhost:8080/",
          "height": 0
        },
        "id": "PjDaK5Z67n0r",
        "outputId": "8a30db5e-4ca0-463f-8b94-dd801d00f5f3"
      },
      "execution_count": 13,
      "outputs": [
        {
          "output_type": "execute_result",
          "data": {
            "text/plain": [
              "(20034, 20119)"
            ]
          },
          "metadata": {},
          "execution_count": 13
        }
      ]
    },
    {
      "cell_type": "code",
      "source": [
        "a_7 = group_a.retention_7.sum()\n",
        "b_7 = group_b.retention_7.sum()\n",
        "a_7, b_7"
      ],
      "metadata": {
        "colab": {
          "base_uri": "https://localhost:8080/",
          "height": 0
        },
        "id": "GMBF1sVe9HF9",
        "outputId": "e362f8f8-a722-4752-aa08-3a612ba5aec8"
      },
      "execution_count": 14,
      "outputs": [
        {
          "output_type": "execute_result",
          "data": {
            "text/plain": [
              "(8502, 8279)"
            ]
          },
          "metadata": {},
          "execution_count": 14
        }
      ]
    },
    {
      "cell_type": "code",
      "source": [
        "round(a_1 / n_a * 100, 2), round(b_1 / n_b * 100, 2)"
      ],
      "metadata": {
        "colab": {
          "base_uri": "https://localhost:8080/",
          "height": 0
        },
        "id": "I3Xz3nMe-Wh3",
        "outputId": "b07644cc-a189-4c3d-f99f-02a9608dca3f"
      },
      "execution_count": 16,
      "outputs": [
        {
          "output_type": "execute_result",
          "data": {
            "text/plain": [
              "(44.82, 44.23)"
            ]
          },
          "metadata": {},
          "execution_count": 16
        }
      ]
    },
    {
      "cell_type": "code",
      "source": [
        "round(a_7 / n_a * 100, 2), round(b_7 / n_b * 100, 2)"
      ],
      "metadata": {
        "colab": {
          "base_uri": "https://localhost:8080/",
          "height": 0
        },
        "id": "yhZJ1jhf_W7V",
        "outputId": "4ef7bd54-5240-4c72-8420-595b293afe15"
      },
      "execution_count": 17,
      "outputs": [
        {
          "output_type": "execute_result",
          "data": {
            "text/plain": [
              "(19.02, 18.2)"
            ]
          },
          "metadata": {},
          "execution_count": 17
        }
      ]
    },
    {
      "cell_type": "markdown",
      "source": [
        "> Процент удержания в тестовой группе меньше чем в контроле и после 1го дня и после 7 дней проведения теста. "
      ],
      "metadata": {
        "id": "czYfPP7w_pVj"
      }
    },
    {
      "cell_type": "markdown",
      "source": [
        "![sample_size_hw9.png](data:image/png;base64,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)"
      ],
      "metadata": {
        "id": "yFn9CBKjAyOf"
      }
    },
    {
      "cell_type": "markdown",
      "source": [
        "> Согласно этому калькулятору, чтобы зафиксировать наблюдаемый эффект разницы процента удержания в контрольной и тестовой группах, нам необходима выборка в 110тыс. игроков для каждой группы. У нас же выборка более чем в два раза меньше для однодневного теста."
      ],
      "metadata": {
        "id": "RR7ifBXJBQ_0"
      }
    },
    {
      "cell_type": "markdown",
      "source": [
        "![sample_size_hw9_7.png](data:image/png;base64,iVBORw0KGgoAAAANSUhEUgAAAysAAAH3CAYAAAC7NMAhAAAAAXNSR0IArs4c6QAAAARnQU1BAACxjwv8YQUAAAAJcEhZcwAADsMAAA7DAcdvqGQAAKN3SURBVHhe7f3fbxxJmt+N8h8wYPiqLvaGhgwcwW1sC76wCLy+EO32omn0CwzPCvYQaBgCve9apvtiQMhn20QbBwLfBlYm+kIgBus+PDrA2MUF+oCCjwzKi/ZS8KK3qR60l1pPj6k91pg6Xi2W3auZqX0tv132CnCc+EbGk/lEZGRWVpFFZhW/HyBQlZnxOyIjnm9G/pgxhBBCCCGEENJCKFYIIYQQQgghrYRihRBCCCGEENJKKFYIIYQQQgghrYRihRBCCCGEENJKKFYIIYQQQgghrYRihRBCCCGEENJKKFYIIYQQQgghrYRihRBCCCGEENJKKFYIIYQQQgghrYRihRBCLhx9c/y4a9a/e9ksbR/7fYPom4M786bTmTcbX/b9PjLN9J7umg3bRzq39/2eU+J1zxw+3DBLb3TM+mO/rzE27PaqWbBhZ2ZmzOzbK2bzs54/Ruo5Mltvr5o9nr5kwqBYIWdIZiBt3Fw0c5dm3EQz07ls5m+sm52vONmMhRdds4h6TjllgBxvL6b9WDe8MUFazatDs3N3zSxfzdp3kWKFxPQPTfd20Uf0WHFS+l9Zkfz+spkbaXw5Mt13Z83SD47cVu+zdR/PnNl44nZdCI63l8zaoxHOwWdbZuHWnuk/Xs/atc5dmjPz11fMxva+OX7tw08UmahdvDrryzRr5mx5KGwnE4oVcib0Psuuos1e3zC7T49N3w9+/ZcHpvvenB1IOmbhowNrDk0Sx2bnhh0ILy2bnRd+V0vpP+uapU42CXVu7pjjZEX3zdE9ES1XzOoD207+CJk+RKA2FyvnwZHZunfKV/VJY/qfrmbjwWmvrNiRZe9WNh4NI1Z6D1ZMZyZcGTj6ZNnMWgG9eWHEyoHZeNPW3Y0da44Px9G9BbP6aVF5vU/XzBU33kft8Lpvjp/ums0bmJvtccxxz/2xhvQfbZ3RvGj70j07p/mtDDs3W1G78NG+6Xlbo/eka1ac+O6YpU/aPOaRFBQrZMz0zMFHC3aCsQPEx4cVxi+WpjGIzJn1tl6xfd41a/5qXsHkiBXktXs9m5RqjdN8JWbF7PIC1HTz2drg/nDe4ErwqRvKpDFyBX4MbbB/OxuPmouVntm9iTDr5iL3CAjIjhujF8zWM7+zEZhn16JbwPbNuourqh36Zv+DK1kfeHvLxtAUiNEl0z2LefHVnll9txuKlS/XbR0tmm4ssJ5sZOKsc7H70CRCsULGiB3obmdXZubsZFcnQ3r3l7MB8ebu0FeLxs4rO6BfnR9yYmgbw4oVDuZTjzdE2ytWcHW0MxZDmTSkVWLlwKy71eGLPDZBcFwxV7CyYuuu8/5e7bwaAOFf8j9IrFhsuHnnp/kc2LdiYQ5iYexipW8OPrQ2xvVQrMiK4NxHB36PIOU9i7yR04RihYyNo+2l7AqQHUgGXpHJ76Ft10SEpePVa9ZgenPDTpWTDMUKiWi1WOmbw4/9+EGxcn60SqyIoXmBxyasDGCFQ1YIZpbNzkt/bABHHy8knnNpIFaey5xwpdlzQS/3zJq73Wr8ggC3sblnliKx4i4w2nl79oP4IqmUly8ZmDQoVsh4eLHjn5Fo+OBjQqz0n1qh8PasmekslW+z8oN10tB63TMH99fN8rXLmbHTuWyW7sbPw/TM/p0lcxl5vLRg1h/aeF7tma37Pj6b/2X/tpnCFYNvv3dkDh7tmK0PVsziO5tJIePetnRjzsy6sLNm4VbXHEbLRpXxHO9lb+GZ6Zj5O+VneY7vL9t45+zk03Qd6vTEyvGjTbPyjq9bPLRYekFCMQGKy9Is79d1Gj7kX2+Q9J/vm+5ttJ/3l9fXjOm8sWQ2n/gae31s9u4s+xc6oA12k8K595kuU8dcvrZs+0Tks39s9rc3zIrtk9nEjj7k4477WN6fldMGX/Tig4EG28t9syF9yb2UYtVs3FzN6i6KS6cjBmHmojrVYuXVoeneWsjOB5Tlzl75oVpX/vXqNzj1EEfx8oy6tzSV+tB1W5a8Dx2b3e/N+2PaqfMPY4OEvzRnFm+umbV3N2r7jKZRe788NHuuvNntLP0nm2bRlq3zRnTbJ/rejfms7hDXd+358LSZJYS3bW3dsv3Y38aiyzX79qrZrXhO4PjRRji+3d4xh6/8wYDoIWM71q3c3U+vXtv227kt54otxzu2Tb6/koVLiZUhyt37aqcYC21+MRZuvodwTcRKatzwLspXkI4rg+2Dj8rjXe/pXjZ+uHrvm4O7izaM9f8r8bMPZfpPdRq2na4umpV7B2GdDjNWNAa3wXXM8n2kJLdOz5iFe01uzkrdAgaKuq1qB4gcV9cNLtjJOeL8axe1U6P+Wzfmoc2+jzZTaXhX25/8KtEVm5/h65+cJxQrZAzg9i9/n2vDhwDx4GQ22GQGFd5Wsvzhjtm9kxmw8QNxRx/P2/2JZennO+4hurn3uubAX3E6/D4GW2tgfZltg4OPcHvaotnyxkAPg2zpylHf7L0PwRLtt3nrvHE5HyhLr/W0ht+Wf5Zl64kv/cs9s46rTVfVgG+NzCUVzxW/ZA1Dan370NZb3+y6Cb18FUjESvNnfE5DrPRsfcyZzjvrZu9Flm7/hS3XO6ijWbP8iZo0Xx6YTZ/e/PcP/U6LFZJ7/tbAmfds34gM4v5D2w+u2rRrOs3hwx2zc9dfdbf53LVtt3Jz0+w82jM7tr9kk9uKNfRsO/zKklm9t2P27m/ayTETn/Hknj20m71QINtx6PPeKa5E2olzZ3vLP6BpJ8SHtnw38aacXbP3UPYr/5beI3lT0YxZeZAo0Ktds4I2HPh2mgOzcbXj3oDkYocYd6sO4ZXLrJ/b9OL++Hwr3aYiVr5vRfU71oj9YMNswHB2xqft19aQy2vq2a7ZvLNqFvyxkkHw3PZlawhvPJb+bg0N3y9WHury2bHhQytErq6ZXd+H3JVYd1tL1J+lL8bleWnrrWP9ilC3huGu7ZfpPlumSXv3n9g+ZoVKVl5bz5/tmFVrKMnbsaQ9MU7NXV0xO898uGfZ+DPT4IFv9OPuh3iez/q/3jX7D1bNyq2trB/L/tJzAtmttXP23DlySfbN0f0V18861+KLJtmbs/KHjG2/2XfPD1oD+73odls7bi5bI1PHe/zQX7WGi9pgmHK7B+Bt267c9/03b68s7sFiRRDDOtXOeDmIPSdsnrr5mFu8vGX+QzFOrZF7P6r3T1Dv8nayAc/qPdlw/hbtmOa8vbZluZXNdfm4MsJY0QjcxtUpBEd+6/Sbtj4GRZW8BQwUYmXtkd/lwYW0/btoO3vctuv64+b5zS6ShONTRtP+22zMy/Mfr6wk8fM55peksCdthmKFnD4v7cTnBsDmA/L+7cyQnHl3xxxjheMH2cP4Bx9hIoiv5B6Zrbes37eiiRwGkzUu4udjMiGkxYo33IPweCAwFgV2IISxUnFFCW9WKeWtbycmGGmdpdLDfUc/yISXfhsLyPZn8fQfb5rNfFLw5TyVJetCrDRzZYPg+BNMFomHOvGAozPqolU0v/pVuq9a+kfigc30rQop9s2ay+eS2XoaWhfSl9yEqMWQGL/f0bclSr2E5RXxvBi9VCHrj1aAfbAXGHtVb02Sq5LJq5+onyZi3j0sao2oYIJNPMDqxUfJuJcJvUKsdN7dCq9q5rdxlIVt+tYdGBYz/oqvQu511waWEwpxH/KvRLbCZlULmwqxgn44879sGiWBLbhyXO6zZYZpb9Qx/F4xC3f8mGKN04PHR1mbOdFUvjUm7wtNHkjuQbBav7iwEaxKyLkfGmeu/krjkeQz7Gfugkypf0m8emy2ogZ1ksjvwR1/0Um3wTDl9rcQLXxcijl7o5U9dhpiJXtGolMaW7N+gTCd8IJB345ZiOtNK7A/82GOD8z+s6gPRySNcLkl64MwV8OOFYNAW1y5o1relmHNXzwonXsR6AvpcbUQK5XuHVvfg5VAQJVYadx/m455kv8mYsWJvfK8TCYDihVy6sjE39jIVoNuaBz5CU0ZOw4/OchKhMOKBLdyYQetcFr0k5Ve0cCg51dM1mSiSiHGdnJS8W+mCd4q4h/2K5Ujo+pVsc64Rhmf7pgNvTohxtoIr6gsc9KVFd8WsUD0iFETChMxFOKrlT2z8yvYHxs8No2308KwTLXhUv1K3lSYvtn/YNZd1QuM3wrDX+IuGVhSb5HBkvftuA+7PjjbTJj5fphfzRUed8PbkUYUK6n+4Fa4ECYyApJixcbTsaJxpxSNpCsXCnx/CMRiDRViJRtf1MqI53i7G5YvyXDtnRtdCQPH9QV7/pf6a34OpeokptrYKqedncOdD8tnSH4LJS72uD02XtvvUq9olTaUePqP1mz7VYwL/o1xul6al1vG2bLRCvY/yPJxcrFix5Mb2J+eb/IViECM+bia9kUPLix1Lq2G45mUO2rDoceKOtwFnnI95mKyVhjjYkJ5nMyQOo3y+bpves/3zVZ+O+asWRzi1rW0WBmi/zYd8yT/A8UK5uvhVodIu6BYIafOwYfZle2mE0E+meDWHf2woIiFwAAuhIY2dLNVjivhYNQrbscqvSNenqmpudKSXtXx+CtzQd5w5QblqFqJcbeuxUZBZlTM/MqaWXs/vDVDBvBBV82acUKxIlfJqyYFMfYiIyZrl6gMNq6V91ZcXen6g9G0mFqBSFJluBT11kysRLw8NLt3bd7kvuthxUqifqQOgqvLMD4a3AOe4V+RbePoXFs2mw/9lf2YUxQr5tieH4kwKbGSGxo1zqUhqwil/FUgdRr771vjy9/SN3t93XQfJ3tkMwa0d9roypC6qHPJsSOg2tgq17W0Y53z7ZWfxzXOpYmr1dl2Mq+JPtW43LJ6UXG+pfpSPRX9eEA6RV1o8Vhd741Rz3C5ckdxjTJWVIExpLRCDWTOKV34Udh5FHcbpCn6VFU75C/KsXNh0++TpM+bIfqvrZlGY17TdrT1VP70AJkkKFbIqZNPZo2uHOGqT+Y/vlUgu2oUDcL+Vq9wRcNf9Yfx96pnjvHw5J1lM9/pmPnvlR9qF9x918hn8h5Wf7tEkE6BLOXr2w5EjMyXbnkAIhYi8SOC7FIk1HL/zd/2Us8JxYoYLVWTQlW40i1f1jj6AGWVq6FSPmwPU9YKw8UykljxD+hfxkPhDw/d8yauvNEkP5IBkq+urJo9389wW0by1rBK+ubo4Ubx8OqlRbMRPzh8mmKlIkzKwMz2NVhFlTrKr/4PQPwnDa2eObi3as/xLD+da/oB/QY0bO+00QX8+VSx0ticamOrVNe+PtLjS4Rv2/JtUTHFuJA0Vkt9aohyV40JnlRfqqeiHw9Ipwin27G63gfiXiSxYC6/sWTW8XX3Zz79KK5TEysyfrgy1LiKFXiMNdV1LHVT1w5+LoS/hhdYkufNMP3X0WDMa9iOx59sNbvLg7QWihVy6sgk1ESsyHMcEAwHwWBiByEM0MHgeGR27q6bNTtwxisa2Xvg7f435t1bQza398xhA8NXrhqV3g7i40xezbJ7squR2kCTD5bJLS8RcgUsGuzlvuaSwSgT2ql9d+aEYsXdQ4z9a+F+QcKVVtOilTBbD0v+vmu5/cQZ7Xb/YrKuq5BJtmygDCtW5AHgNbwRTqgw/Ec1QGR1xb333xkfo4rQnprAO2ZpW9X2aYoVuVodtWfKwMzO4Zoru4Ks1lRcACghdVoqj+L1sdnPRQuMssE9aJj2Thpdnuw2ppNeTKg2tsp17Z/TanJbqH9WJHjGIUkxLqx95ndpEvXSuNz5WJIeM1J9qZ6KfpyvAtp2Sq6SSzidj+p6rwMXuHARDB84ztug4tw/LbHi7jyouc3LPQfiypf6SGTdLWBA6qa+HfI5PTHepkifN0P034CaMa9hOx5sD3e7H2kfFCvk1MmfWRlw9S1f2UjdimWPYQDWV2GOHu6Ygy8zERFcMawwNAr6pu+vaO/fjidOea4iHIQz47LiBQFiyN3SxrVM+inDBuIGBnu8jO6vWCWuVslEN/jKaFNOKFbyq3sVRqlfIap8kNwe67y/a3bf1w9I2okGcXZWzfoHC4ON3QCZZMuT51BiRcobtKWlok+NbIBI/XVWzNbd5QoRXMHjrbIR0tvNXmqg+07leVBRV95/sj94sR63Z8rAFNEZvD1MYw3nLfemIblCGz3snGMF/z0lzqVOS22QuEr6dDO7GDBI3A/Z3mmjKyMXoDZMqi37n22ZnZLxGFNtbJXrWsaqKlHWN/sf72RtkPe3qttcj0z33p77Jy+kSAqbRL00L7c/vyvGjFRfqqfqnJd6qbhl1t9+GJ5z1fVejS9PPK9VnPunI1ZQtkEvqinuTii1Ye0tYEDqtK4dZBXcuoYrienzZoj+23TMG6kdySRCsUJOH3nY3U5SVQ+w9+0g6l4LWnoLTkb23EvxamJ5S1Z2q1X2wHbvOe64tsjgn7xi0zP7Hy6Y1YfwCYO9PHFmVwr1BOgNe3ko+vmhf81ihtwC5gyul4f5Ck6W53L8/c/WnLE+a/MXDPQVBmGevlu56ZnD6G1Xo9FQrPgrsqnbeuTNVp3EbTzOgImfOcopjInYSG/2gGiKKsOlMBIaiRUxxqK+kwtuP9H3X2W5lpXAUQwQMfIarUJobB47sXFtt9xrrfXE7ftTqSw411y6kVCvFCt4CN22S+L2yLSBWRhLs9c3zN5zyWnffVR15VrxcgFpm5mOFadfqly61+ouhkZZSVj0zPGLvouj/HapQ7P5v1i/g8TKkO2dlbfiy93urVg4nt1uevDS5/21HacerZuF7zTp0/5qc6LfpOo6v4remTer2wemJ9X16sjs2XFOP/OVvZ7d+nW3zxyZvn8zXt+90ne+qGsYtPCXWplIPGA/TLnzPNjyxXVxeg/Y2zLZMdnVS2mF3h5zYjr+3pePa5jb+KQ/xheXvtrMzjvfhqcxVgiuXA3Gxvy5z0ggHNwZdBFI6rS6HfKLiqWLbdXE503/xbE73xr336ZjXqkd7fjwIhoBXh2anbubjb99RNoJxQoZC7kYsUbJ+iMvKrAfD7S6b2HUPU8ihnVmXOEDclvu+w1Hpvsdux+3pjzXb84qVi4WPtwzxz6x/nPcl76gbvfIBrbOOxtm3xvV/Wf+dcfBm8XUysmrfbN5V19BlFvAMLEfmZ07SoD4h/bdFWYXQL5VYMsavb4SZMZrwhCSB5Fv7ZrDTzbUywGOzc67HdO5ZgfrIcfdPm6zQpwof56/GCuMvu+NSWtQ421LoTd8tyGr5/kPdvN6PoaBgu9e1NyCk02miQ+E2nzBkB76JQJyJd22g3wrJ6Nn9mBo22NX4leG5nWgwqCuveG18H7X7D7smg18E+G2n/yt8b1zb91s4vsfr22/9FcY56M34/QeemPpTWuYVxVFrnYPK8ycgZ3V+ZEXD72vtmxfi2+JENHgy/Jox2zeXDYbj3e9QWL3f2/DbD7wYb7c8N9QwDnqjVn5nkHqpRSWtFixRZPz3aWjXdwvpA9lx2evzpv5t7IPC5au1Mt5gPzd3zXd2+vuTUCZ4Jk1y/gQnw+QnWcNbgMbpr17tj69yF6w40OqWY+s8ZUZcpFr+IpUGIK4kIELMMFtVa+t+PJphy+dOLIGmxcAkSutbL2y+Xffuin7DevailN8+wbHUNcPD81xr2eFx4ZZecenZfevfrRhdv1Y1bjc/kviOIbvM+0+tUZrzxqmH62YBS9wO++smo076Y+1avC18qyurlihFbeGLYP/ftPsja38G1u9r6xYxvc6gvPE7rd9Pxs/ItFci20Tn+e5G/iu047ZurViVj9czcTKm6ume3/D9lU735x0rLDgA6Hu+czr0avFE/Tue7FtHV5FnpUf/TcSVhFFnc7YeRJf9ipw31lRz4XNvTe4jQS5vXnuvS2ze3/TrH5f6qBh/x1mzPPfaFq5t2tFyWp27iokLyWRSSYKihUyPo73rLHkv4rtBqSOuXxt0azc6Zp9+SBcEvnuAr6KvGH28os5drLAxHfJTpz3o2HztR0E3RfNJZ3l7OFHnYwVE1u4rco/XIsJo/OGjWs7+6ZLjrxt6I0ls/aD2Ejpmd3vzdpJGV/5TnwJ+rk1DH3c7kvNNzftBJ+akbwgS13ZO94xy7YcuEotoipjBLEiV/FSTl0tza94J1xomFpBc3/dLMsXsX0ZizaqAIb6zfTK187N+LW+9YjBHDiUJVnW7EpjKoysKOCry9kbffA1fl/nvg/kX8OvjLtYsdKu6iolriYPLczsxH35mjXq5YvP1s1etSIk8WVu9L/Vt9E2+Hr3qhcc1mBEf72dOO+O960IWDbz/o1GOB9W7ia+Xu+pEiuO4HxHXVZ90RwPx1tj1afpyvLQf/wt4uhBZizhq/GyAnu8vWzmrMCZlz7oy9r0AftG7e2MpayshQuvWgulr7Pb8yE8b9NU9uNU2sFV+PAczNqs4qv01mjew9vOVF2v34/GO4/7qriPM+9fNi+okw28hCDqE43LjTzI19t9nWO8wO1nGN93B64cF1f/Yxf3Q1zYWnlHzhPfB6N+kaz3Bqscjuj86ro+6d9chXkJFwJOYaxIjcfpFfF0nHDrP7CCrOqZpWT/LjtcTFi8uTH8G/esUN68jnqaNQu34wt1DfrvEGNe/tV8W//rn5b7Ut8KU/eyHVsXqX5PJgOKFTJerIjo3lgwa4lBhJALBQTbpeGEWdvIDL2Kl0gQQgghY4BihYyPHm4BmDfrn1GoEIJb4Qa/nandZGKlyccOCSGEkNOBYoWMhf7TLbP8RvMvxvY+65rdBvd4EzIx4J7vRwfZPdcvd83qm+nbiCYJJ1aGfhkCIYQQMjoUK+TUwUN78lBece/roln5YMvsPMbDm4WAwQP3e/e2Gt3jTcjkgOeL9DlQfsi3/eCFFnhGyj8Pgoe+35oz69EDrIQQQsg4oVghY6Tv3vxygLemfLBiFq2h4x7GtA4fb5QH92j6kGnk+KE8HL5kNibyVsi+ObgrL62oe2CeEEIIGR8UK4QQQgghhJBWQrFCCCGEEEIIaSUUK4QQQgghhJBWQrFCCCGEEEIIaSUUK4QQQgghhJBWQrFCCCGEEEIIaSUUK4QQQgghhJBWQrFCCCGEEEIIaSUUK4QQQgghhJBWQrFCCCGEEEIIaSUUK4QQQgghhJBWQrFCCCGEEEIIaSUUK4QQQgghhJBWQrFCCCGEEEIIaSUUK4QQQgghhJBWQrFCCCGEEEIIaSUUK4QQQgghhJBWQrFCCCGEEEIIaSUUK4QQQgghhJBWQrFCCCGEEEIIaSUUK4QQQgghhJBWQrFCCCGEEEIIaSUUK4QQQgghhJBWQrFCCCGEEEIIaSUUK4QQQgghhJBW0jqxMjMz45z85y9/+ctf/vKXv/zlL3/5O9m/o3Ky0GPgpAUihBBCCCGEtIOpEyuEEEIIIYQQAriyQgghhBBCCBkLXFkhhBBCCCGETCVcWSGEEEIIIYSMBa6sEEIIIYQQQqYSrqwQQgghhBBCxgJXVgghhBBCCCFTCVdWCCGEEEIIIWOBKyuEEEIIIYSQqYQrK4QQQkiL4DxICJkmuLJCCCGETBEUK4QQUtC6EZGDNCGEkIsM50FCyDTBlRVCCCFkiqBYIeQC86JrFu0YgHEAbnH72B8IOd7umZnr/9UUR/ume/3n1n/fbw/i/zTrM839798u8jQzs272/f6zoHUjIgdpQsg084//8T+mmwB3nnAeJOQC48XK+mO/ncAJFSs0QrEyDJlQQRzNxU3G8fbi0GLlpGMaR0RCCDkjztsIJs05z7aiWCHkAtNArIDyysqwDLeyIowiVk5K60ZEDtKEkGmFYmVyoFghhJwLUyhWuLJCCCETAsXK5ECxQgg5F0YWK5n4KMIVYiS/bWymZ7ov/OFIrBR+6gUMV1YsHKQJIdMKxcrkQLFCCDkXRhIrmfCA0MjCFduF+MgewJ+5/X/Cg0WLlezYoDQBV1YIIWSKoViZHChWCCHnwhhWVoT92ymx8l/tr15xqYcrKxYO0oSQaYViZXKgWCGEnAtnLFaa3Pql4coKIYRMMRQrkwPFCiHkXDjzlRV7/PH/4QTLoDQBV1YsHKQnm/6LfdO9vWQudxId+cWOWb40Y2Zv7KiTi7Qettupca5i5dmWWbDja9UHxoTeVztm/ca8PYezj3/NXl00K3f3zPFr72FYjvfM5s1FM2f7EOLrvDFvlm/vmMOeP56id2R2766YxauzLsyp5GNIzlusfPgX/yId3UiOTDjDiJWZ/0PZWrE4GUKsWMrxpeHKCom+EJp2s1fnzeLNDdN93C7T8ejBptn43oLpuHxSrEwNbLdT49wM4Oe7ZuVqNn5Ui5W+OfhIzl/rLs2Z+bfmc5Exc3XF7D73XhvStwJpyYseiU9EUGV8z7P+5vzMzJo5G2b+rTkz67Zrwp0yQVu9OjTdWwsuD503Fsz6p3VKK+Pgo3mz9MloZwzKmTJC6eiaODLhNBArmbCQW7ggMDLhUdzShedQ9HY/Eyqy7/qfml+LjgdxBis2IVxZsWCQvvC87pm9D664uih1iFfH5vDhpln2hgcMyCN/qB3sm7VUvglpK9ag3mqw9H0anIdY6X25YRZEIFhXJVb6n656oTJnVu4fWeki9Mzhx0vZsasb5sDvHUj/wKy7capjlj4+LOJ7fWx2359zeem8GwvgI7P1dpbPufd3w1WU3qHZerfjjs1c745dOBdtdWx2bLqdd7vmyOan92jNXLF1tPHEH07Qf7xuFj7YV3U4HChjygilo2viyITTcGXlvODKCimwk52blKs6xCsrCt7MJvWFe22SK/tWzdfkm5CWcfTxwplNCmcqVl4emO735r0Asca2FyxpsXJsutf9ePJxajzpm31/AWX5/uBVBdC7v+z8z9zYsXInRkTJldDof7JhhYDd/2aFKHq1Z1ZdOebN1jO/b0zkbWXHYtTh2mfZprE528DYe3M3US4LxuZ37Pj3ym+PAOotZYTS0TVxZMIZIFYeP35tx4hiVWQc7pd/+b/51MpwZcWCQZpYBokVy9HH85mft7ZatLpCsUImiBc77jal6RMrhfiYubRoNj7r5beYJsVKb9esuPN2sfr1ld5orzTSA3pm92aW3uqn6fWFox9gwpsxVz4qZMnxg1Uzj+dUbleNHkW5xt1m0lbZOGvrJb/1TPKQGuNQ7nmz/uWoayoZKF/KCKWja+LGjxpfrKu8tdQb3eJvuHNWbIm6sGE+Ksev3J6yrnJsEZBuzTh4FkT1Vn3r7tkSPqYwnI2HMCeByqCtNBErfrKvvAp5LlCskAnhVXFb0TSKlZ1bK2bz4VEuLGrFSj451py34qez3mC8OTDrbgVEG/kRMsYNdUvXkdl6KyvHWYmVrN608SIG0pLZiTJ+tL1kln5w8ktHKF/KCKWja+LODHcOpw377Oq7Gm/c+NFQBPixphirMrsiPOdjUZG+iJDlQ/xlfirHDpcubZc2wpWVtjJQrBT3dl+5UzYd+k/xRp/ioVT3Jp17B+Uroi/3zYb461w28zdWzcbN1fTg82jDLF+7nF1dtX6X8Eaf0q0OVWKlb3pPd83mzQUzGxkn2L91a8lcfjfb33/aNavvZOnMvr1a+TBts/zU0Ds0O7eXw7cU3al421DJ70L6zUQvD83uvVWz9MZSVof+wVz3UPGlBbP6oDBkZDAPnL7qo68GxYP88Z5tN3lYuWMuf3fd7DzVV3P75vjJTlbfLs4js+tuCZo1Cx8d+Hvpe2b/jpTJxnFt2azeWTGrgTFb3W7C8aNNs+Lbyz0QfcPm5au4p9n8PO7aviX5sal/ZtvPve0J+d80B43arkm5ELfOU1a2dWu457zYNavX/PMP2sVlHFjPwAqDG7Ycl5bNzoAHv89OrJRptrKyavaqFgW+9CsrdX6EPL4Vs1u1DNNEIMXIbWKdtcF5OCHSVgcf4fY3fdtZ2igyz7tmCc+1+M2TgHZKGaF0dE3cWeHGlNS8IOd2tIrh/Ef7yvjzK4q3FPbFcWW6uRgpiZ4snsoLNhVzHDk5GNNOApVBW8kNVTspBwaxNR6f75tNGEf2eOeanTBjI89O6HM4Qb9/mIkTPNB6K7vfPHy+5cBsXO24K4Fu3n/dMwfuQdr46gfeIjFn5t7bMUfOY98c3V9xaXSuWSPT+RFSYsUaxfd3TNc/VKsHocOHdv+H/g1Edv/+g1WzcmvL7DzaMzuy/+34Nrdh8lOBe+MQHvy1As7Vr43jXiYe4od+szcazZmVbe8X9bQt6an6t0b9zva6f5jZ1uFn1iC2wm/r/p7Zuy/7F4J77XtPirclrTxMWF/Pt8ziVZuGMvjw8O7c1RWz8yzz33+2k73pqTNvNt39/8dm7wdds/Wer+/bu1aUWBEib2rzK3EHH81lDw37ZCUvxUBe3W4ZPbNnj3XeWTd7L3xeXuyZ9XcgAmbN8ifSaognzM/B3RWzcqdrdh9Zoer3d97fs61QR7Ny9R6s2O0rVhj63FqhuemMy45ZexSmIIIxdaVtcD0L0udnBr79qbViJb/40TErD9Lq4uCOvPQjHh8SNBEiTfxoXtl69i8WST9Xc7rkbWX7AfpXcTubf2YlOB/svmtLZmdQvTQEZUwZoXR0TdzZkI17qfEkG2vK40QTsVI1JjcJK3mSsFlcenypyDPsLQqVVsOVlbaSi5Vqt/DhfnIVIDlQyBXJD9TJ7q6UrpjdQOz0zd4tvyrgccZf6VYz+PP5CASQGG4JA+S5N07iQUGuwl5aNlvBVWu55SMsy3D5SQGRZo3jW5Fx7F/RC8Fz6HfJG41Kfi14MBvpdYJ7+OVefWus31NvQLLIM0bxQCnxpPKNh5SDB5pf2rrqRA8lW/AmJ8QRCDsrsuax701rcPsr/r1n++bAJZ/dphMLJMSzFA/kFe12/AmEbSi+HPlD0NEbk6QPXrMC/KXfB/rWP/Y3NVpry5W+6o0+4+o+ukWnUqwMU8+W3mdbZuPevuoHadorVrI6cqKvs2A2HuuSFBcDXNnPQ6y8suesE8H2fDul1YtBFG11ZLryNjC71XuIt6bN2T4j5w4uniyYtc+Kc6n35aZZeiMT7Qu3usOt+FpQzpQRSkfXxJ0JzkZJjQXeBigZ/35srhUc6VWVZmEtbkwpxhM3vqu4svE+yjPKMVAEkZOCMe0kUBm0lVysRBP5q545erxV3MJyadFsPgkNTjzL0rm0Gt5+IYaBHgS88ZivwAiPu+oKYTZIdD4sr1eIoTcTrETUiJVUHhxVg5sYWHZwyW+vGTY/ZfqP1pxRVrzdpxp5o1HyIeGXVtwgvchgT4pF4Ns0NpjzeEoCzIq174S3u7gypp4ZyA0/dR+97NMCNUeuDlthFjT+vunGqwPJdvPhK17uIFfhg9USiac0MfiJaGat3GdS1JYLb62aDQUnkPMpSlv6TCxWhqrnIWizWMmMbr9qZR1uiyy+s4KVsq5/LXnNrV1CXk+nIFZe7pk1P9513t0a2vAflaCtgu+sLLkXFgj9z9bMgu1XeT93K9sds/rQ+nkdCp2moKwpI5SOrok7C9x4kpizMYck53N/vlePPxaZI0t+fJwDRAXyFIRFfJKPRPpunKdQmQi4stJWqsRKTjYJOj+dmtsP+sdmf3vdX+WLBxB/r73d37m2HDyMWyDio87pPI5DrGhjctj8lMnuQW9wddiaH7JaU7ry7hAjO7z9Z5BYKQ+ONp330T7WwFGiCLchLUW3u0h91Lk8r1LfFYPxsRVi2bNK82b57q45qjJAU+0mqxuJNnNIWbXBX5kfqccmbWIZUK4APEN0d8Us+GeN4jBVYmWoeh6CdouVjPIzSBtm9xk6xxDfUMpXy2qeb5F2rHlgv/90K/9A5OwNa/AnVpLHRaO2wtvkrumLDH5lVZUpW43rDNVfUN6UEUpH18SNn2weTo8l6fk8G2vrx/hKP34+qR274CcxJ8gYH4fH/pJwSfgjpwPq9SRQGbQVMfbqDAMxGK3Tr/909PyD3W8smfXtfXP8LGFwOvrm6OGGWRRjDq85faR8eINivvE94mMWK0Pnp0wWpzUevvQ7KinESJWhkTIAs33DiBWLbcsFHMtvL+pZIblsdvTtUpKfpq+qbmDU95/vmo3rmWCFYbqYesFAqt2kLIk2c0gY3Q8q8zMGsYIH47972Vx+G2/EOjS9R+m6lwkqbN8h63kIJkGsVCLjzXearBKc/G1gRw/k1rOOmf9w8C12p83gtsIFo6WofImxzN9GOcyYhXpJGaF0dE3c2HHnbvV4XTVvV84Xnixc2XaonFMFxF83H0QgvvKcLeniHG44F5EzgysrbaWJWJGJEU6dqLgiP9/JvhqdT/ADB4ueEi027LZMrP5qavLDbinGLFaGzk+Zgw+zVabBRhu+XJ2lX7p1yyP507eUVQ6s0qbJQRXiBOGu2LL2nWG4mHjgfP8D+IlFTAVNjHpP71khWkq3rKTaLX8zVMWtWxJGG7aV+TldsXL0CVaM5szaQ9W+FXWfFitD1vMQTLJYObqXPVtVujCSpMF3VvwzXKn4jn7gv5jvv6Z/HgxqK+SxGCeFxFg2xHkooF5SRigdXRM3btxYUmlLgOJCX+EGje8+zBD2gQPnV21eQpD3YLz3c0OxL8tHPCeQk4E6PglUBm2liVjJn5nQV+3siY0rmvFVYZkw9Un9eKv8cHRvN3s4On9+Qt4SpB8o1fTN/sc7Kq1xi5Vh81Mmf0j6avyMiOeJrRf/YLUYaGlxJLd8hM+VjCZWMpHpHkC/0TU7txdKD3cDyc+cjSNZ+s+2zI60aa2RtG+2Sld6bXluQchFD5an2q2/Z9bclfPyQ+gO/zxU8NKAyvycoliRY/ELEYYUK0PV8xC0V6yg7fEK84rblfBVdjyjZM+7ZHsnGOkL9hZ8qyR70H/erKtnQ86aurbqW7E+n/w4ZmIs8ysrzUReBuotZYTS0TVx4yXr440vevixt8nFQTcPxON6XXiM9wm7IU1ahJSEl59DKFbaBVdW2ooYV5ViRT0Mq59ZEWMtflj7q83gGYP+K2uC2TTKb7nqm933wvDFW4LmzSpe3ysBXh2ZvQ8XzGLTt4FJ3kqDi18tSQw6ZbEybH4S9G0eneFljVG8/ljd9uReT3tDCT31ZqvSV6m9wT4XGSHZVfnhxUphwFlXtXLk3lIFPx0z/72uOXjp8/S6b44erZuF76i8VxnuDlsHnVWzFz2s3H+It2Y1ECuW/G1oiRcaOGO/s2J29cqEvFWsVP4RxUqqXFLHUf3J28Akbdf/LSJW8qv/L4/NMf4OU8+WqXgbmIiL6FXZuKVUPp6ZeiteJf5Nem6lVq/y4lXqVa/DxjMgcr4lL0acHZVthVcov7NWfmW8w1/AUOOnPLMSvza7DtRNygilo2vixoobY4cbq5sa/m6MCuYHPzckbAMXd2p/EsSTznOcZjZO1lwkJiOBMe0kUBm0kdc9s/eBfNNgzezm1jjIvrOy5T6Eh+NzZkV9aNCYQ7Ppv0Uwd2PT7DzaMVu3Vszqh6v+da+rpnt/w6zft6e4G3SsMfbBrjnyE2/vK3xrQ98GBo6sgCneEqRd6Zahp5vZsxd2MNuK7lXPXvlpj725ZvaUMZSvKMyshLfdvLZl8cZ7KECGyE8F7hsaEq5z2b31aB4fKLTCL77HPveLVys/8RnHM0E2D6X0lBBa0a8cthx+36/SXLeGbsWDwpnBWG/YFPfyRy7K+/EnIupsvZZG9ExUdq7Z/vXcp+WN0rhMVe2Gdshe8pD1IWfkW45hzHfKxubxtjeG39o0B/qQrOZZkbT2KKyzFLXlsnGJyFh4v2t2H+JDlCtm47ZP+/qG2bm3bja98BQRg2/F7Fi/67cL4dW0nosPIE7yd1aAemmHrb/L1+w5IR9dta7qTVz5g6kJw6H/ZMN/X8i6S3PuPMs+sGndVStmo3Nt/7akP9iN+8pnuq3wtrmFeiEVvQ1sC8ZW1SpuBShfygilo2vixodcWBpszNca/c72SJzDbn8RpjIO+CuNNzZvt1PipVqoADd+iVipyhc5d7iy0jLEoKh3s2burUX3Ub39lN3x3Bp/b+P5A2twvGPFift2iXxlW31F3Z6YsUEye3U5fMA+p2cO76/7L45bw8V9wT28kpwbLdq5QUAGuNBhQEiWF2H8oBG4YHAanJ+B2HrKv/JvBcvCrS1zUPWMwvGe+2q6GFqop/X78SufE3l2A20mDML9VYPngdl4e7Bh0/tqJ8z7zU2zn+c9Xd/hFSubJ/9q2tx4tMZk+AX/6nYrCNtB8rIXdKF0PDCaq/tMiiblgoFcfOMCb7Jy9dK39XrNCrE3lqJXfcsX8O258itlY7y+noUp+IJ9jm/PfEzwX/+P+7qiTqw43Lmz6F+BjHN13ixbURi+Mhv412G7dAe78xAr+LbQfIPbufCdleycQB+04nyogYlihe5kbhyk5ur4HNTjee35WSMKgjkhMaYk5wznEnOqS2fQKpCeVwb5JaOC+j0JXFkhhJAz4jzFChmO82wrTOwpI5SOrokjZNrgygohhJwRFCuTA8UK3aQ6QtoGV1YIIWRCoFiZHChW6CbVETJtcGWFEELOCIqVyeG8xQohhEwLXFkhhJAJgWJlcqBYIYSQdtC6EZGDNCFkWqFYmRwoVggh5HTgygohhEwIFCuTA8UKIYS0g9aNiBykCSHTCsXK5ECxQgghpwNXVgghZIKAEUzXfneeUKwQQkhB60ZEDtKEEEIuMpwHCSHTBFdWCCGEkCmCYoUQQgpaNyJykCaEEHKR4TxICJkmuLJCCCGETBEUK4QQUtC6EZGDNCGEkIsM50FCyDTBlRVCCCFkiqBYIYSQgtaNiBykCSGEXGQ4DxJCpgmurBBCCCFTBMUKIYQUtG5E5CBNCCHkIsN5kBAyTXBlhRBCCJkiKFYIIaSgdSMiB2lCCCEXGc6DhJBpgisrhBBCyBRBsUIIIQWtGxE5SBNCCLnIcB4khEwTXFkhhBBCpgiKFUIIKWjdiMhBmhBCyEWG8yAhZJrgygohhBAyRVCsEEJIQetGRA7ShBBCLjKYBz/8i3+Rjq7S/c7v/M5IjpDzgCsrhBBCyBRBsUI3yKWESBNHyCTClRVCCCGkRVCs0A1yKSHSxBFyHnBlhRBCCJkiKFboBrmUEGniCJlEuLJCCCFnyOrqqvmFX/gF8+f//J+na6FD26CNzhOKFbpBLiVEmjhCzgOurBBCyIQAIzhlINO1z52nYKFYoRvkUkKkiSNkEuHKCiGEnBGyovJ7v/d7fg9pG2gbtBHa6rygWKEb5FJCpIkj5DzgygohhEwIctWetJvzbieKFbpBLiVEmjhCJhGurBBCyBlBsTIZUKzQtd2lhEgTR8h5wJUVQgiZEChWJgOKFbq2u5QQaeIImUS4skIIIWcExcpkQLFC13aXEiJNHCHnAVdWCCFkQqBYmQwoVuja7lJCpIkjZBLhyspZ8WLHLF+aMbM3dsyx3zUqx/eXzezMrFm+f9KYyFTx8tDs3l0xC5fWzb7fNYje012zeXPBzF7vnrhfjoveV12z+s5l07Fjw8ylBbNyd9/0/DHz+tjs3Vk2c/bcmpnpmMvfXTc7T/v+YPtohVjp75lV1GWNW9wesjf0jlzfW7w6m8cxe3XRttWeOX7t/UQcfTwfpFl2zfvxaUOxQtd2lxIiTRwh5wHGtJPAlRVF7+me2bm3ahY6Mlkum52X/uBAjszW23qitU4bgBQrI7N/O6rXkrNG6rV5s3hzzWzdPzDH7bVVx8bxo02z8b2FzKBvZOT1zP69DbN2Yy6rw1MVK/tmPWifQa5j1r/0QSOOtpfM7LtdcwSDt2fjvZqFmfvowJhX2J4z659l0uXoB0tZ+TsrZrfxeXu2tEKsPNkwV4L6L7uhxMrzbGzLws6aubfmzfxbc3aM8vuu2vZ47v3m9MzuTQlT5dojVn72s5+Zf/JP/on5C3/hL5i/9tf+mvmt3/ot8z//5//0R8vg2N27d81v/uZv+j3DgfKnDFQ6OnEpIdLEETKJcGUlwfH2Yj5hOqOoAf3H64UB8PaGOcgv/ZJT4XXP7H1wxbfLmtl95feD131z/HTXbHzXX33vzJvV+0f+4Enom717JxeXzTlpeiIShjDynnfNIsKMY2Xl5Z5ZexP5qTF+Xx6Y7s0rZv2x39a83DUrnRmz+qlSn84w7pj5uwfm4CMrtN7aMkVL983+h/Omc2l8YqX/aMvsvPAbI9AGsdJ7sOLa5ErDsa2e4iLN3Pu74SpK79Bsvdtxx8r968BsuL5h26qFY6Vup2+//db8o3/0j8zNmzfNn/7pn5p/+2//rfnLf/kvmy+/rFDYln/37/6d+fVf/3Xz+nXFstIAUGcpA5WOTlxKiDRxhJwHGNNOAldWUljhMfPmlUx8dNbM3sAr9T2zc6NjOrIic/u8rgdOOWgX1G+NMX50f8XMOT8ds7R9QsHyas+svnuGt0edOL0j0/1Off2UeDFGsaKuntdeqX+2ZbYSYkWM6qSQEWN3LPmuworJW0umO+Fi5eDDTEAEInBUZJXmzQ3bIgnQp924OG+2nvl94HjHLCFcIDbbg26n3/3d3zV/7s/9udzQg2D55V/+ZfO9733P/I//8T/cPs3x8bE79vXXX/s9w4P2SRmodHTiYhHS1BEyiXBlJQWM4tvWgPJXDBfuDZhOrbG18Lb1/0Hmn2JlTDQQK+DoB7IyNmc2nvidQ9O3Rt3cGRrDp5HeseleH1w/AWMVK8UtfEM/A2ERozopVsTYPUOx0v9y3QrhxQkXK8dm5120SSQeRuT4waqZx3MqlWOe9MmoHW1dulXQW3u257cP3U6/8Ru/Yf7KX/kr5unTp24bKy2/+qu/an7pl37J/PSnP3X7hP/+3/+7u10MAuckoL5SBiodnbiUEGniCDkPMKadBK6spHBiZd/0P13NJtSqq4aOvtl7v2OW7/eKZysoVsZDQ7FS3GJi3Y2d4mHsIeh9upat0JyRMXw66U2XWJGwSbEy5nyXwC1t7nmZSRcr+2YN9TazZvZeHprurQVz2a18dMzld1bM5qPTrs0js/VWuR3lgsLiD47M8aMNsywP5l+aM8u3d8zhOd8aptvp9u3b5hd/8RfNH/zBH7htESt/9a/+VfPsWaH48JxKt9s1/+Jf/Iva51magLpIGah0dOJSQqSJI2QS4cpKCi9WtNELMZLk5Y5Z9mKmWqz0K9+6hP1bt5bMZX/7T/9p8eaj2bdXyw+m9nvm8OGmWXl7NjIAy2m4tyhZf8hTEFdPGSmdy2bp7kF+dTMvg3PKMBPj0Lsg7VdHZn973Sy90ckMEveGJlumRPzaMEmWr47GYsUaQ/mbhhL3xB/vmY0b84WRFrxBqm8Ovr9YPBysXGg023bYXi3efhS/pUpj00O7ZOllb0la3T70fpul1/vMtrm8Ecu9UGDZrD+MV/xCsdL7LKzr7leJ3A0w+l17XZNngWxbwpDUzwsNYJBYOfp4q9SWYR/UzpYr6ofahWkM0T72fNi5LW8UmzGdN+bN8p3iLVb9J5tmMX+AXLn8PD82OzdsOpeWzc6A/nzuYkWeUXpz3syjTFYczOOBeHvuSrnm3t9L19MoyG1i0e20+34Veu7avO1b2QsygofyO0tm6xzf6qbb6aOPPjJ/6S/9JfMf/sN/cNtVKyuHh4fm137t18x/+2//ze8ZHdRBykCloxOXEiJNHCHnAca0k8CVlRS5WLFmiDxs/3b63uqDO1fy28TSYqVn9u/vmO775bcuHT60+z/0b3Cy+/cfrJqVW1tm59Ge2ZH9Ot2X+2bnftdf4dXGWTkNF9ftrtl9ZMXQ92AQ2P1XraiyhvPad5fNxvau2bUCIzPCOmbtkTIMerv+PvP4KnLxkHuethVIO/c3zZI3xNcfHljDfMVs3t8ze/c38vhXHhyZw4+XzZIr347Z/BWfp4p6TTKEWDGfrXm/odGPFyHMXV0xO8+y8vaf7ZgV1Gdn3mwGt4z5h9WTRvyR6b47axY+ssYvDNrXtv4/ytpr9r3dwNBDevOdObP28DgTbOpFAXMfFiKuLj08u9GZuWJWH/gj1rjedKIkajcbMhMra6b7ybKZ/+6q2biz5oRtVhdzti60f0ulWOnb/jxn5t7bMUcuSD9/HqhzbbNmpTGkTqz0X+zavlzdlhI2FImeWpHVvH3kgf2ljw8yvyjnveyc77wbvuwgy09qZUVebDBjlj4p50Zz3mIFq8VZX0CZRTBn9B5v5G9CxIrHiXFva8viW/hYx1estsxcXTO7usr6R2bnPT+Ovblm9ocQxqeJbid5ZuXTTz912/LMCgQLhAv4+c9/bv7BP/gH5j/9p//ktk8Kyp8yUOnoxKWESBNHyCTClZUUSqzgmwRr/gp8aBhacOzSqtnzE2parHiq3rpkhcEK9l9ajq4kyoReNo7yWyhiA1DSiA2A3IjtWAPOGmV+r8OW1YmGD3SexX85bRFvcdpypTQ2gPL4IRCCq84qjaarK2gXxNVErOR+1YPE7u1SV0rPseQGXCCcqsWDewtV6fYyaS/VT/zbrEJDzab35YYVMNZw/p42nKvSC1dLBHn4PDQqxa8VR5/q3PWtUPSv9X3TxqO7WYXR7wRS6fZHPGCO+Bs8x+XJz4lKd/pipXH7YOXUGtOd+LkJ/5pxiLJDvwtUixVbX59tmY17FSs3ivMWK0fbVsRenTVzdowKyuzJb31t9GKRGl7Zun0nW63p4NXTfrfj9b7ZeGveXL60VHHu27Zq+rzgmNDthJWSf/gP/6Fz//W//lfz8OFDt9KCN34BvPFrY2PD7O3tuW3cAvb555+bv/7X/7p71TGeYcGrj4cBZSeEkGnhpGMaR8QUWqxYnPGDCTwygI7uLZgrdwpzrlasVBpX1UZxbhxFE3qVYKgz4CoNv2SYEcTKUPFnVIapYkSxsvZZtsvlvbNeXhWQPM4smZ08k1XtYvdboZG6gi7l6XyYpYD+0VyMVaXXt0JwtmQ45+UL+lpa2GQcmk1vrAf1XdP+Ug5NvtIYrTpUIXVStbKyCvHkt2Nq+0dlv2rePv1Ha84wl/4xiCx8Wqw05bzFymCy+nP9pPrNvPXg+Z5rIlS2hrptUBi2n502cTvp76xAhECYyHMp+A+xIq8pxiuNIWYgarAKg1ceQ+gMc3sYyk4IISSjdSNiKwbpSKy451Iwcc7oq/J4niU0XMQYOl2xUjbWKFYaiJX8NrDC6Mrbp8YVealoFylPnXNh5LW9DfLqqO4HAflX6n1ajcWK7bH+7VpB2yXbx+el1jUrl9R5SqyAg482KuOp7R9V/apx+yBt3I7XXHxk+Zl2sSJ9aIjzUtF/upV/IHL2hv+Y5yjIuT7ofBgTTdsJt33h9i/cBgbwKmO8tvhv/+2/ne/D7WO4jWyYN4Sh7IQQMi2cdEzjiJgiFiu4/eV9f6XQ3zKC2yVm3w9vH8mNYYqVglHyVMUQYqV4wH7V387iy9T4uw4V7eLzMPgbFVKHerWmjgFiBS8F+O5lc/ntFbP58ND0Hvm6GEKsJNsu1T5+33x0+9ooSBtXiZU6avtHVb9q3D4Sf/MVhMz/5IuVfq+XvAUsQ77VM8R56Tl6UHzjaP7DAbfEve6bXt2Ki1xsqDofxkyTdsJKCR6ox4P1Ah64x4P3+nkWvPIYrz7GK5CbgrITQgjJaN2I2IpBuiRWLPiWipuIF8zWM9xTXf6GhxhXFCuKUfJURWOxUrzFraMEZfZczbLZafR184p28c8F6dv/0sj3LKLbriqp7gdHnyybWTyH8lAdkboYQqyIgAtue0q2j3+97YivfdZIG5+ZWGncPhUrTTVk+ZlksVKcF5W3vvX3zCrqdchyHv3APxNl++nK/XqRK89bzXwnepZFIX21kxpLz4BB7YRbwPCKYryqWL+mOCVW8MpjvPoYr0BuCspOCCHTwknHNI6IKVJixZptOzeyif7K2wvmSsKQE+OKYkUxSp6qaChW8o9CdpbMjsp/9gzJTPXDxZ9tmZ38swkV7SIvXLBxVz0c3L2XPWibG1w3ozdQeXoPttRrlSvSk/qLHwIfWqz4h+PjB6eT7SMPOCfeHubom/2PdxqtUEkbDxQEL3bM5sOwlmr7R1W/GqJ98hcr4C15bk/Eky2zpS5IZPmZZLFSXiGOyc+dId7Sd7TthUpn3qx/1kDeBhd+/D7NKyuWnahKvNTkjBjUTrilC8+w4COQmrqVFbwCuSloA0IIIRmtGxFbMUjjFoTg7Vge+WZAxSQqxtWwYsVdxS7trzbWxi9W5K1P0ZuzXhevFY1fbTpc/BmVYapoIFbk9bpJQ9u/ncvdpvK9rjl46Y+/7pujR+tm4TuJt4Hlt431zfGLzBDLX7hwadFsPDoyfX9ffv/lgem+N1/0DSm7TS9+CxteE7v4gTYYK9KTMkfiOL867fta/xViqhErbsWhY5a2IxO0on2y1yXb/dYAXd22eZeMvjoyex8umMVGb2mS53YGiRW8arj8PZza/lHTrxq3T9/WuV9pcK9oVs9XuFda3wgN9iw/xZff+y/wZFLGpLwNrBAK5VcXB+fOl0XPrMWKzOy15VXCNgXGl0w0ld5c2NNvETufh+tBXTt9/fXX7rmU4+Ny7uSZFbzaGA/XA3lm5bd/+7fddhNQfkIImRZOOqZxRIyR72C8iS88+305/opz6qoj3oDjDZ+ZtzfMQWS19B7K1/BtvOoYvsORCaCV8Pak14dm07++MzQMrQHoJ/or1tjVyVSlAZGx5YzYOC4b5tO1LP0oTG6sXl1230zBN1mWb+6YfbnyavevfbRl9pHnyrzaeB6l48f3FKrylER9nwTfEdnNrWeLFRvHT3fdMx0uz9ZI3fxSJ1ZQ3FcfudKVeLllZs6s3Ns1O3dXbZw+TfVa1tjFqzb5VWc4/QE+fF8kuGe/Ij282toLrIX3u2b3Ydds3FwxG7eXszivb5ide+s+b/g4YZavufcKMZZ9zyR7jkDnDVT2GdvDd+V7F5ErvYq2guxtX1mYK4k3i4FMQNh04tUndT7F/dyGyr+FgpWOrXgFZYj2cd/dkeOdy1n74EOSiZWZ7IF81O2W2b2/aVa/77+TI68ft67t31kBwTng+6R8ENP1vweJ1q24ULB/O13PKReIzqCN/Ech5eOj1nXesWPoOX1jBVS1E9749eu//uv5a4tTxG8D+/t//++b69ev5w/cNwF1QAghJKN1I+J5DtJyJTd04eSM152uPNCmk1zNTjh31Td9HBN3Mj1cKc8NA+UQV36lXjvkL52Gu5qdiqsmTGFQ9M3BXf8VemvQLN/NVgawqjMrD3njSvSQ8VfmKXGFXEi3S+hmr86bxZsbpvvYf3yxht5XO2b9hv9atjVQF25uZqIrIv9y+aUFsx58t8SCr/TjrVz+y9+zVryt3z9Mpt37cqv4+jzq8s6uOUoYYlXpYf+SS2fWzN3YyPLat8betY7pvLFkNp/oVHvm6OGmWbkuXwNHmHWzk/h6fapewxWQnjm8b0Wq/wp8542ar8AH+FWiIZx+IL6yvXFuJM8BuOj2rCHaxzzfDfvDrS0r9PwxjTWwN6+jLmbNwm0toCboC/bC8Z7ZvLlYiBTbLxftebBXdRImxYoI7GauvELm+1cuUiBasnYa3MfGS1U7/eZv/qa5e/du8JxKjHxn5W/8jb/hXnWMt4WlVmHqQH0RQsi0cNIxjSMiIYScEa0RK6SW824nihVCCClo3YjIQZoQMq1QrEwGbCdCCDk9uLJCCCETAo3gyYDtRAgh7YErK4QQckbQCJ4M2E6EEHJ6cGWFEEImBBrBkwHbiRBC2gNXVggh5IygETwZsJ0IIeT04MoKIYRMCL/wC7/gjODf+73f83tI20DboI3QVoQQQs4frqwQQsgZsbq6ml+1p2u3Q1tNPcE3r8JvihXE38yq8pcG3+bKw1Z9Tyv+9ha+qVRC5yP6rlICl24yntMlKJ914beqQoJvSA2ZtyZhm+VFfwdrcFsi3boyEdIE9LeTQGVACCFnCIxgWWGha59D21wIoZLjRUCdQFDHMoO4mWDJDOzCrwsbCZaSqPDCJTSQvYEt/uBnwIeEz8LAjtMRsVD+AKqvR5VnVzcVoiOkWdhGefEf1RV/pboPyNItl4WQs4crK4QQQshFxRuwSaPUCYd4FQPCYfDKhoiOsrEchj1+URjYgjPGY+NcCyQXT1owwe/ZGNjHNu/+b05a+GXCIaozVz+DRV+zsE3yUhY91aIPfhu0MSENOaltT2VACCGEXFAyY7jCaE4JDutzsFjxKyGxIZwQKylcnvKwWVzlVYM4z+1YCSitengxWFrBaCJWThLWEuTFx6XrJxaFGQ3FKCFnCFdWCCGEkAtJeiWgwIsOZRhDKAy8xSopcixu/2BDGEZ0kUaWhyIun6cgz21ZCSgLpuTKiKVWJHpOEraUl1goevEStiXqdrAIImRYuLJCCCGEkOFJXG0v4YWHuIFCRQRQwuitMr4DXJ502NDodqsBwfEWrQSgroKVCi+sErdalcsRc5KwlmRepJ58G+njpXonpD1wZYUQQgi5gAy+Qu8N3G0vWBKGcxlvZJdWa6pFTAH8pISHj9M5HR774+2Uv7MgzosluXoBfD7r6vMkYVN5AT7OUltif0m4JPwRMiLoSyeByoAQQgi5cHjxUHELWEnI+BWWgSsrVUa2GMCVt5xZE/v2ECskLj6Vvyhdl/+atE4X1GVCHPg6K61cNanLkcNW5KUKxKcFSZRueEseIecDV1YIIYSQi4Y37pO3gMUGrMfdfjToSnuFkZ2Jn4r0LIi76lgJ5D3IhxdesdGdzKtefal3zYz0qtUgKXP5WHYbV70wGy1sdV6SoI4CQefrRu07W9FHphWcTyeByoAQQgi5YGTGcPoKvDOIEwZqXZgcJ1Zig9mLiZr0GguVlAhJCC9XhkHC6sTUi4N0fTW5jWuUsMMJlaQIKbWdbzeKFXLOcGWFEEIIuVDUG6FVYqWRAHDCITKanRGcFiRDC5VUnuM0vXgZ7+1LDcSBK3coODIR0kBUDBV2eKGSrJs4zZp2I2QYuLJCCCGEkOZ4I7TSmE8ZqW6fNoi94CmJl2x/HnelcMj8lQxhm07SOEb6lVf4seIgeavK12mi0ys43l6P9mUrIXl5UvXq/ZTL1iQsaJqXjEqhAlxbiVipyhchZw9XVgghhJCLgBcOmGdzV2XUl/zGtyTViQJv6HqXNrCL44ErGcc+nUFGszfm03GcIqk69C4pAgL/qdWPGlEwKOxQecnSqRQqnmz1pioOQkYD/ekkUBkQQgghhBBCWglXVgghhBBCCCFjgSsrhBBCCCGEkKmEKyuEEEIIIYSQscCVFUIIIYQQQshUwpUVQgghhBBCyFjgygohhBBCCCFkKuHKCiGEEEIIIWQscGWFEEIIIYQQMpVwZYUQQgghhBAyFriyQgghhBBCCJlKuLJCCCGEEEIIGQtcWSGEEEIIIYRMJVxZIYQQQgghhIwFrqwQQsiU8Kd/+qfmP//n/2x+//d/3/z7f//v3S+2sZ8QQgi5iHBlhRBCWsB/+S//xfzH//gfzU9/+lPzZ3/2Z24ffrGN/ThOCCGETBpcWSGEkAkHQgQrKHXg+CiC5V/+y39pfvVXf9V8++23fk8Ijv/SL/2SE0WnCdJDuoifEEIIGRWurERggv03/+bfmE8++aTkdnZ2zNOnT82/+lf/yrler+dDDYdOA/GlED8nSec8QZ6R97gOUaYqo+k8efTokcvfD3/4Q7+nAPtwrKqtUlSVHw5paSR+qZt4uy1ImdrYJ+PzRfLa1v6mwS1eWDlpAvwNc0sYBAiECMbV3/3d3/V7CyAkcOy0xQrqHEIFcVOsjBdpQ92OH3/88amLz9MEefu7f/fvmj/4gz/weyYX6eup82sYUBd/62/9ramok/MG58Tt27fd/7ivnUffQ14kPxcVjE8ngSsrEbhyeXBwkP//9NNPc2PnJz/5ifsPozU2OIcF8cCQShnHAPvF0EI+YHg1uaqqw503MBiRFzFspcxN84dwn3/+ud8aDYSX9OtAftDWqTquO1ZHXH6A9tFtLu319ddfu9/PPvss2G6Sdw36blU+R+kbiEvOB3AafX9cIK/6fD1pXuvq8jTBiklTwxL+Bq3AaGBAwZCCEVs1WWJib8vKCgwIjHWkGWhT3Xb4xfY42nOaQN/85//8nw81Fo4D9HX0eWm3X/zFX6RYOUVkDJJ6jbdPE4y1dReELrpYOSlcWakhNiyPj4/dLwygYa6yp4ARCsNKxy8gblxZP2ka5w0Mvd/5nd/xWxkoNwboVLlj4OckdZBKv4rY0NXUHatDp4//ELvyK/v+9b/+17kgibeHBeHQN09zAkb+kS/hNPr+uIjP15PkdRx1WQUeopdnVAYBf/DfBOT91q1bblKOjVpNW8TKsP4vOjCMqoyujz76iEZvDehj6GtncX5XgfbRKynxNjkdMK6Ne2VFxGbV6hrG34suVriyMiYwiKWupmM/jBgYMzCMYlGB/9gHB39VwB+Ox37ESJKr6nAw7uH+8A//MP+P/ZKWGGiyLfnTfrEvDodfoI8BMfqGiSOFxKNB/aFsiEuQuOK8Yxu33kkb4Bfb2K9XCPR+SQ/xSJw6D7IfKy6IQ/KPXxjmkq4uV1yOqnzEIIzEo41+qQPJ32//9m8H21I32p+uB71f0kdacXiN1LEcG+Rfl1HaHOnAL/5LeF1PkkZVnHG54V/SwX7Ei19dJl1uIH0D+7HyIeIO/vX5KnHhV0jlT+/T6cb+xgne+jUMTf1jMoZYQZnwH4Zt1ZU/TLSoV0wo8VVACSuTMfwJ2JYwcFpoIF0RHzKZaz9IQ9KSNCQebYTDv+w/bwOzLUjdNjGAdN1qUYr9MI7RhtI2+C9x6/qWdpb0dLvLPmlj3a4Sl/SdJ0+eOL9IGwaj5EX3D932sh/ntuRJ9zEN9iNOOIlD51P26f4k+3SZdfr4xTbKgjxIfjXYp41f+IWTdKQONRKv5AN+sS/VHkKqzlPgmPiD0+WO60f7lXzKPuQBZZO8psqh6w1O8iXtJnHJ/qoyiD+4VDpSl5In8S/bEq/EiV+EAXH7xNsayXdVf5Pj2C91qPfpPGiwTxz86DLqOpQ4SRmurFQAowcdNj5pZD+MXRg14gB+xeCpCi/86Ec/coZS7AfxxvuxLUYTjC/8R3j86mNA9gHxizjFsMMvDGedd+zTht2wcaRA3lEGbWgKiA8OIHyqzuL6Q37EaIaT/Or9CIN8gTh9bCOM5Be/Eg4gP7Id16kWGlX5SIE4xOjVaQnIg9Qz0NvwizCyjbjwX+9HmbBf4hU/VcjxuG6qgF+EEaRNRu37dftRx3C6jyFOXSb4Q9nxiziQnuQPdYD/ErfEKVTlT8evqdo/Dsa1soKJUYwdlBUTYp0hIJOsTPzYD7+yOiOTskze8CfGgmxLOCBpynYcHsgEDlLH8b/K/0VG6mpQXaDdYJhJG8E/2uSP/uiPXHi0l7Qh6ln6h253AecM/GEfVm6A5GNvb8+F1f0IIE70C/Gn/0u6cNp4RBgcQx4lTjHi4j4nSN/Txp70PxyL+6IuK9ArUXLsZz/7mSsL0qpKV+KVdBEW+YDDf/hHOISPgf94ZQXxSDo6jzgW13kqzjiMxJ+qH/xK39B+AeLR8WPclbrSwI+kh//Il2433RcQd6oMdfnQwG/ct2Qb6SOPAPul/gHi1f0r3hYQh+Q71d/icIhfH6tqE4B8Il4cF7+Sv1TfS9X1pIPynwSurFSgDTEN9mHQhjGFDgUDCEYNDCB9C09s6GkQDuHhVxu7iBvh4rS14YRfGGEwGAGOid84PviVvIqhB//iT8LBnxhyo8YRow1CjdQZwtXVGY7rcsEf/AOJG8916P2aOH3EJXGDujIjrBi6+lhVPuIygjgc0tb+8B9hJa54G/6l/PqY3q/R6aWIj+v6rQJpoZ4E+Ec+Ru37cRkFxCtpwaGPof4RH/5jn05P0HURp6nLV5e/OByI62rcjOOZFfjDpKfjxUSojRVBT7oCJleEh8GGX20kALQH9suEK0g4HI/9IH49SQP4l7jj47KNSU67OK8XkVRdpsBx3XYSToxEbRhin7QdQFiJH/tkVQT74jZBGjpuAX51nALSFAM1Tlf3mzhOHS6mKi1B9zXtV9LQ5cF5gosCko86EF4bsTodKYuuEyGu/3hb1wvyoPMHJ2losE/yG6ddVz+pepZVWRzDuD0Inf84PtCkDKlwAuLVbY+wUp44j7oecEy3T7ytidPXaWKfrj+pX6QTh4tBfnRZJS590UBcaowmXFmpRIwnDTonjBg4/NdGjTaOEFb8pIDxhOcWdHjsEyNQG3TaD0DcMOCwHfuNDS+dD+RNbqlBWG10w5/kHXHovDeNIwbxSJwa7Jc4cFz86HTg8F/qX5cL/qX8en8M/Mkx+EV8+BV02nFe42MST1U+Umi/KA/aVoPyo+2knvW2zi/2o74QX6ocAo5L/aXQ+QFxHccgDd2+4l/S0HnR9YU06vKB+LRwkHglb/iVetV+U/nXfR/HpCzxsUH5wz45DgbV5WkzjreBpQwDcTKJC9jGhIkJV8A+mZgxsUpY8SeTc11cCCuTOUiF0ZN4fBzbVUbFRUfqVhtAKWIjScKhTVGvdWIF+8VgffHihXMA8cXtDqT9tMEm6aHvxHGLEYi49DEgacRx6nAxqXiAxIE8SF1ov3Vx4hiMx9R5IyCc7qe6zqX8uk4E+G8qVqrqPEaHifNVVT8II+e3zifSxDZEqsRRBeJGeDG0pc7j+OrKUJUPAfnWq7yYJ2Q7zqNOK66HeFsT5xt+pG+k6k/SicPFwB+cAH+IC4JY4p920K4ngSsrCbQhpokNLW1A4Vdu+akyAAXcwoU40OlhVEk82EYa2ojVaSCMNiBjv/Anacd+cUwMMvgRY0z7wzb2i7+mcaTQeREQHwYYKQ9+U3UGf7r+kab400Yl/uttjU4fv5ImQHmQDykXruLLf5SnygiuykcKHU5AeWRFLM6T3kbaEChIR9cx9uv21tTVBUjlpy6++Bi2T6PvA51XHS/SQnklDvjRaei4cUzqJu4vcd4H5S8Or/N3ViDPg1ZMcBz+BoFyx7fwCJgw4wkXky0mWj1hxpMrQHwwRuBXbvVIxSX74PBfGw0IK9tApxMfH2QAXHRQT1VXYTG+Yb9uD4Bf6RtwdWJF+0V8sj/VN0BdeyEs4pZwiFOMNPhHOPwX4A/74zh1uJhUWbEtcet8a79xPaTAMdR1qmyIWxu/Oh3JQypcnG68jTCSRx3nIOAvZfTH9YN0UCb4j+sZ4D+O6baPgR+kg7h1/lPxVZVhUD40SAdOxIlsx3lEXNgP4vaJtzVx+vAzSj+NicuOvGEb8Q/qeySDKysJqowVGDp6vzag9H+cNNro0uCYvsqOcDjRqgwlHW9shGm/dQZbfAxxSjjtD0a7FidN44hBOG3YApQBxiLCCbpsSEPqDE770+UEkjac+NP5i/Oq40PeIARwXMqFY/gPJG4g8SA82qwqHzFx+gD/0c5SXoSV/0Bv63oH2I/4nj17FtSrhIE/+Jd2i9H5gUM4hEm1kxCXFenEZZf86v+IV+pMo8PjF2EA9st/Xe44Hp0GwqMvSXwSB9oIcWA/HIShlFfCSrzyzJfUifR7HK+ry3GCNLFygolPnmHBL7axv2meZCJMgUkRhoFM5AD/tdGLCVe2UR+ISyZo7NOTtxgqIJ6wERbGkeQl3pa8IA7sk+OITxsjOm+gzni6SEh9xQYU6kzaROpYttE2YrDiWJVxLCAc7qnHOSFIu0s7I20cj9sfILxs41e3vfQjCVd3TOLQx2KQls5/7BfxSxrar9SjDovyQJDDvw6vyybgONKRetTpSNypcPDfVKzgf6rOY3R9x8T1g23JJ+KL207yDn9VILwc1/lPxVdVhkH50CBuCGgpO/yh7rvdrtsWdL4Qp26feFsTpw8/0ofkmOQ1dawq3wgjda/9Sh3rdpFzadpA258ErqwoYLRgIpSrsDBqpAOBlNEjV2t1WLnNKQb+JG7EBeSqfpw2jK04DTHCBMQhfhEH0kUciEv7RVhJL45T5wkGXFV6dXFo4F/i0y5VJ1V1JnFIWXR6cJKmDi9+gdSF+NX+EA/KKf8Rt86zLo/EI/6q8qGpKj+c5BEO8Uh+422g45F6B9LmcKl6QLgY3TcODw/zutFxxEg6UnZsi19dD9in09ftqNHlkXoAOl74kfxLnBIf/Eh4+JH8SRj5D+SYxJvKn96nw+r9su8swS1eWEHB7QF46xd+sd30Q5CYFDEpwOkJEGBylGPxcUzssh8TqUyWOI44RVTA6Qk5jlOOIRzil/0ywWv/OA7DQ44ByX9qnzidPinXT2xc6jqXthWDSfahz4sf3S9gkKWu/MZxph6GB4gX4fV+OOlPkh+9T/zpPoR9iCsOJ+j8SN+J++Df+Tt/x/2ifnR6CBv7hR/sQ1ziT9eLoOsR/v7ZP/tneRz4jouOM+63Os1f+7Vfy+PBb6o9Uu0Yo/2IQ3i8AEG2pX7iOkc74Rf7BeRDb8fo9CT83/ybf9P8vb/39/J4dfhUGZrkQ5D6lrqMt4E+H37jN37DHZe4v/jii2Bbp6HbA8dS/S3Oqw4v6Up7xeh86fzqdOHi85dkcGWFkDMGxrJeXYu3CSGEkGFJXZVv8sxJFTDYU4Y3IcNyUtueyoCQMwBX7LEagTeY4co/vpmjt3GcEEIIGQUIErktSYDQGPVL/YgPYoWQNsCVFULOAEwWECdyG1K8TQghhJwEfTsnXHyrUhMkjqrbmQgZhZPa9lQGhBBCCCGEkFbClRVCCCGEEELIWODKCiGEEEIIIWQq4crKCMirUvHMwc9//nP3O+5XncorVeHO+2FsKb9+5aze1sgxPER+GsizHlXpnTd4/gTPoQxqJxyTD0Tq/tTkHmHxD4f/AHUR14fkpaqucBxvjxn1vmTEibjrytqmfkvININXo8prT3FO45kD/YrUJiC8vNp2HDTJV+p1tE1Avqvynnr4vCnIB+wSuPN6rWxd2Zowap0OS9x/xt2fyOTAlZUzBsYhjEq8xWl3d9c57IPhNopBLh+yS4H9+pW2o6YRxzMsYnCKwYsJB0au5DvejkGeU8byqCA/aINBxm9d3TZh1Hob1E6IN/XRTBEedcCfiBpdD9iG+MEvwD5pM/xHfuQYQB5OKlQQP86DuO2RnggxMKg+mqDbUpdt2uh9/dQ8e/KvzJPf+X+ZL/f+H+4X29hPSBUwCEcxpnEejfpa23GA8Ui+OTGMYY1yI0zKMBZDXb6VMQyoG3wLCPlCfkaJYxSQnrzFq65sTRi1TodFRB3FCRkHXFkZgtjIhHF5EiMsZURq5IORAvyOYqDF8ZwUxKUN3XhbgzI2ERbD0MT4HVS3TRi13uraqaqumrat9hfXrTbodR3hvwgcUNdeTUB68sX3FCLehaZlq+I02nIS+P/9+KH56vN/Yb559lvm229+17z+2Q/dL7axH8cJqQJG4jBiBYZ46oOP582oqwAof5WhPOrKCvJwHm/FQjvqdOvK1oRR63RYkO+T5JNMLye17bmykgBGmNw+AyNP3+oF9/Dhw/w4nBhicTgZaPAr4WU/DDoJL0aloOPBlS8YawgDf/gvYbUBKGHgH0Yr0nn27FkpHqDzo+PA1XD4wT6dLvwiHjFOkT6cEG9rEAb5lvRifziG/XFeYhAOfuAfTvzqskgexa/4F6rSwn+9P1X/sT8dr86D1L2E0WBfysjH/qowmthfXO/4L+XCL7bhF2WQ/Ui7qVCR+tJtr+sQedHxSFo6DI4jDI5Ju0heQFWdChJGjktdS/ySH8QjceFX8hLHKf7FX1uAEHn2e/9vJ1CqHI43ESxyhTPlhjUkTmrkoL1gdA1jRJPmyFV31DFWAKSe0W4wzkWISJ/AcZwXv//7v59/iVv2A/QP+Y9fxIvxAn7iVQX4lfBwiG97e9v9F0Nb/FTlC78IB39IB8elz2Eb8ejwQKcr6ch+cfGxWKxIurE/jU4HDnWIfCAeOHktsOQXfmQfqCqHTjt1XsGPpCnxSbnkmM4zfiV+nb5G8oK2l7w2qdO438T74RBWgD+9LXkGyBfEMcJKHnT5q+IkBHBlJQIGDE5KGDtwsXEoBg5OWhg+cqwqHBz243gcBv+rDCbs14aWGJkQFMiHOBCnjf/6mI5Hg/3iD/HrVSMRLkDSloEqXnGoW4FA/GJY6njgUEeSPn7lvyb2lyqr1KGuT/2/Li384hj8wL9OR9eb9qfLgf/Ig5QfYXQ4DeJIHYvTqkL8wcHYlrwK2JZ9UjfaH/YhLPJdR1xfurxA11NM7Fe2U/0Wv6k6jUGekaYQ+0X/g0jEL/wiLQkj/uCq+sB5g1u8sHKihcn2//N/N//0//Yr7lfvh78mt4ShvDA6tEGC/8MYAtoI00YFaQdoEzEsxQBGG0vbi+GKdkSbYz+O6zB6ZUX6B35jwzHuT4PikWNADFaJQ/KFbRxD/pAe+hr+S78Tf/oYtkV0xOkiLumrEofkV4eDkzJJnsRfjC6L1IkWBIgL8co2/CPdP/qjP3LhtH+ER37ltjL4RT5S6HSBlA37pWyID3z00UdB+jqcIGGkHhFW8gWXqlNsSz3peHEMaep4JS+6TPgf5xnbkoemcZLpAG1/EriyooAxp698a6MIDv9Tx+rCwWhKGUUIA+MJvyliAw1xIE4YZYgXYXE8TlsfA3E8GsSJ45JPMboR549+9CPvq2wE63zH2xrEq+sMfiQ9SVuoymfsD36QnuRZ8qXTivNUlRb8aoGm0fmJ/WE/jiNNXddA50mDsFpYaeA/FSZG5wnxSR6EqrQB/EudSF5SggdgH+ISdFig8xETlwX/U/22qk5j4rSBTgP7ET+EiviFQ/zwg/9IF/91/HVlOGvwTApu9RJB8n/9X+fdwC4O23IM/uB/ECgzDAEYBILsE2OhCcMaDjA60LfIeJG21O0CI1HaG+0mRnRVG+KYNvaBjkMbk0Af0//jvNSF0/mScHJMiPMLv2JMa2J/SAdOwH7Jh44D+/X5Bafzq4nLEm/rNAB+sQ1/g8oRx6WJj+mySRqIV9LQZdFiSojzAnS7CNpfKgxAGJ0enOQNx3Qb6DSQJ93fEK+UsS5OQgBXVhTaYIJxg0lXjCQYPzCKZPDQBlNVODGeJA4NwoghFQP/KQEi/nW8Oh9AH4vjiZF8/+QnP3H/xS+ECsICpKcFhy4riLc1CAMjUhC/Ok6kg/rSZRB0WQSEh199DPFg9QbxA/xKXdWlFdedAH+63rQ/pC9xx2WPw2ngV/cnIa5fgLTkViVZlUI4XRdxOGzjuNSBRocVf0gD/5F/nadUfnR9xvnQxHmQ7VTYqjqN0WkD/Or84bheucN/Ha+Us6oPtAE8RC/PqGAlJZ604WSFBf7gfxAosxhNguyDASIG0yCqDJYUqTTJeEC7iNEvaMMwPo72k74kbRkbj0DHgV8xJoE+pg3NOK26cLFf/MK4Rr60H93n4Ecb+SBVHqQDJ+g86jiQjvZXR1yWQdtAyjuoHKmwQnxMlw37cAzxpuomRZwXIPkUcCyu09S+OJwG+yWfQPtFXqvESl2cZDpAHzoJXFlRwIARIzE2ZmAUacMU/8UoqwoH4whGUmowgr84DSEOh20YwWIgSl5wPDYssV/yWZc+QDyIF/mQuHAFHE6I49DlBvG2BvGm/IrBiPpKGfAC/EpZALZjwxRxxIaurtu6tKryniqztG+qPAK264xuXRZhUBsJsT/Ep8uD47qPCNgWgQB0PKkwsX/4w7bUZ11+U2ml+i2oqtMY3ZYgTh/xyHHEI/WPNJE2/ON/k/52XuCtX7Jyglu/xDjQDvvFD/wPAnUAQ0AbADAIEFfKKMA+SUsbSVVGjviFwzEYIGJ0wsnVXR1e/utwOj78gip/pGCQ8YnjWhQI8K9v/xlVrABpt7iN6sJV5QvbyBfiicuGY2KQiz/EGfvDPjgBacq2jiPOXx2x33gbaSMPiFdAmoPKAeryER/TZcM+HEO8iDNuwxRxXuI4qupUwLb0G52XGORbH8N/7ANxXhGnlLEuTkIAV1YUsWGkDSH8F6MKxo42yqrCxcaaxIGTEwYXjqeI40OYOP5UPNivjb84nhiEg/GGX8SFMomxJ+g4pNyIH4Im3tYgDuRH1xG2gYSTY3E9CYhXwuA/8qoNbW204jjixMsQdJ3UpYW4pWw6Pl1mAH+IH+C4lFnvx3/Eq8Np4jiFqv0x8CN1gbyjLnQ4fVyIyw5QTlntgv84bfgVIx/AD+KQeob/OIwgdSJgW/vFMV1f8l/XqQb7dVsCnX58XMeJX8l3XA/wn+pv58U4V1Z0HHUGhhgUQBsOsfGCX22cwZ8YHOJX4pJtpK2NH4TR6SHskydP3H+EQXwSf2zgkALUo7RFXNfYFlGA//CLeobDMxPYn6pb3Tb4lbYF8THdphrsl3CIG0ZuKl84jjixD+C/+EFZJH741UID/kDsD/vjvpiKQ/IkZYF/jKcp4jqItyUdyZNOpy4PII5LEx9D/JIG9uEY4pX/2i/GRElDkLxImREW29iPfak6xX/sR7xw0m9wTJ/T8Ic0gY4L4L+kibBVYqUuTjIdoH1PAldWFDhpYNTEV3xjYwf7tVFWFQ7AXyo+DI7YlzL8JIwYWynDTuJDeIkft2/pY3E8MTDacAsYkHRiA07iQDrwj9UMiS/ejkEeJG9xOfWxqvDYJ+WROpD/QJdd9qXqtiotyX+8X8os+3ScsrIDdHhd3/gfg326DnSccHH9aJAHDNx4cFz8S3kB4kJeddshPcSv94G4TlPo+tJ+JB9S/hhpD0kXYaUudLrYp8uv61Sj/Uj9SB1jG2GQH2kjXQeSF8m/LpO0K8BxXcbz4CyeWYHRIMaJRowTnR6c+JXjYkQIEj/8isEhfiVNkAoPY0UeMgYvXrxwDiBsnBc4HSfJ0G2AOpb21m0Ko/yLL75wx0Q0iDGpw2MfHP7D/dN/+k/z//ExpCHGpXZxP5B98payOF94IxnilXzB789+9rM8T9iP81+OIyzKItv4hfGLXzGAdT6lz+GYjgP50Pt0eI2OC37kTWdwOCak4tJ1i31xObCdikvQceq2wLdXJF44lFGnBVd1ruj6l3oAcf6lTqv6DdDtL3EhXdkHv7r+fuM3fiNIW5cfaaAMqTglz1VlIhcHrqw0AEaRXjnA/yqDjZAUMKL1SwuGQRvlKWCYiygYJygDBBM5Xc7ibWAy6ceGEfbLle4UEk4MP4A4YMAgDOIXYyNlWKTCS95kHwwX6dsIG+eRtA+MR2hbDVbHqvoRIeRic1LbnisrFciVWnyhG1deIVDwC8NRPzROSFPQh6oERx0QI7KyEAORUnXsNEB+ZTUF/Z4ifTyc5ndWgAgCLRzkyqUWDikxoYmPa3ESbzcVK0DCwcCVW8BAHD9pHxAk+nYmgPaSL64TQshpw5WVCjDoQqzILSpw+K9vISFkGNCH5La7pkA062dINBApZ3ELE9LA7VNnsXpzkYEQwcoJbvWSZ1jwi23sbypUAMYoGP3xKgXEAMZYLSjwX1ZKBFntiAUIfrGN/ZKGiAvZhh+5yp4SMED24xYhbfTKfp1vxKMFDTl/0J7oR+Li/kMIIZqT2vZcWSGEkJaAW7zwTAoeosdbv/CL7Sa3fgmygiJOxAUQQSHHZMUD4kCHwX4RDrIPBioMUrmHHb8QG/gvaUg8+E2F18CPFiWCTgNOxBAhhJCLCVdWCCGEEEIIIWPhpLY9lQEhhBBCCCGklXBlhRBCCCGEEDIWuLJCCCGEEEIImUq4skIIIYQQQggZC1xZIYQQQgghhEwlXFkhhBBCCCGEjAWurBBCCCGEEEKmEq6sEEIIIYQQQsYCV1YIIYQQQgghUwlXVgghhBBCCCFjgSsrhBBCCCGEkKmEKyuEEEIIIYSQscCVFUIIIYQQQshUwpUVQgghhBBCyFjgygohhBBCCCFkKuHKCiGEEEIIIWQscGWFEEIIIYQQMpVwZYUQQgghhBAyFriyQgghhBBCCJlKuLJCCCGEEEIIGQtcWSGEEEIIIYRMJVxZIYQQQgghhIwFrqwQQgghhBBCphKurBBCCCGEEELGAldWCCGEEEIIIVMJV1YIIYQQQgghY4ErK4QQQgghhJCphCsrhBBCCCGEkLHAlRVCCCGEEELIVNLKlRVRYPzlL3/5y1/+8pe//OUvfyf/d1ROFpoQQgghhBBCxgTFCiGEEEIIIaSVUKwQQgghhBBCWgnFCiGEEEIIIaSVUKwQQgghhBBCWgnFCiGEEEIIIaSVUKwQQgghhBBCWgnFCiGEEEIIIaSVUKwQQgghhBBCWgnFCiGEEEIIIaSVUKwQQgghhBBCWgnFCiGEEEIIIaSVUKwQQgghhBBCWgnFCiGEEEIIIaSVUKwQQgghhBBCWgnFCiGEEEIIIaSVUKwQQgghhBBCWgnFCiGEEEIIIaSVUKwQQgghhBBCWgnFCiGEEEIIIaSVUKwQQgghhBBCWgnFCiGEEEIIIaSVUKwQQgghhBBCWgnFCiGEEEIIIaSVUKwQQgghhBBCWgnFCiGEEEIIIaSVUKwQQgghhBBCWgnFCiGEEEIIIaSVUKwQQgghhBBCWgnFCiGEEEIIIaSVUKwQQgghhBBCWgnFCiGEEEIIIaSVUKwQQgghhBBCWgnFCiGEEEIIIaSVUKwQQgghhBBCWgnFCiGEEEIIIaSVUKwQQgghhBBCWgnFCiGEEEIIIaSVUKwQQgghhBBCWgnFCiGEEEIIIaSVUKwQQgghhBBCWgnFCiGEEEIIIaSVUKwQQgghhBBCWgnFCiGEEEIIIaSVUKwQQghpF6/75vjpvtm5t2FWb8yb9Ud9f4AQQshFg2KFEEImneM9s3lzwVzuzJiZmRnTeWPBrNzdNUc9e6y3Z9bvHmT+JoT921k5Mrdq9qhVCCHkwkKxQgghE0z/yaZZ6HTMwod75liM+n7PHGyvmnkvXlY/nURrf9+sQazc3DXQXGfPsdm5MWtmLi2bnRd+FyGEkDOHYoUQQiaWI7P1tjXo39s1KTnS/3TVdGZWzO75WPsn49mWmbdiZeXBeWWeYoUQQtoAxQohhEwqL7pmEasPt/f9jph9s3a9a83uyeN4e9HMzFih8NLvIIQQciGhWCGEkEnleMcsQay8uWb2X/l9Aftm46PJel4l49h0r9tyTajQIoQQcnpQrBBCyMTibwOzgqXzbtccvfa7B9Izh/fXzfLVWRu2Y+a/t2uO+3tmDc+4vLlhMnnTN73nB2Z3e9Os3lgwm0/cTtP7bMMsvdExM5dWzG6+6tE3h9urZuGSz4ffC/rHh2b//pZZu7loln5gj7w6NN1b/mUAlxZtvIkb2PyK0eJ2hVTpH5u9uytm0eUf8SyY1Qc61Wr6T7tm9e2s3Jd/Zcsc9mwt3uv6Mmf0e0fm4NGO2frApvHOZl4fe7eyui67ObP+OFGORvnsm4M786bTWTBbz/wuQgghORQrhBAyyTzfMctWJMAY7rxjhUZyhUXx0oqSax3TubZmdl9kBnbvy02z+T6eb7Fx+FvKDj5aMPNiZHfWDfYeP+yaPasfeg9W3P6lTyAmrLH9yY4z+g+/P2/3zxdG9+P1LLxz82bz0Z7ZvLdvehBVz7tmCYKls1Z621fv/rL1nzbee19uRC8U6JndW1Y8zSyZnUHLMC93zYpN88oHe9lD+1ZM7N66Ej7Eb/PceeOymfX5lvowVsyt5mXRbs6sJIRS83yKWLH7+WwMIYSUoFghhJBJ57k1wq964/nqitl97vfHeH/lVZgj0/0OwnfM+mO/y7Fv1q1x33nfGvdf7ZtDL4SOPoYoyR5+P/5yzxy5/bLyoMSK49jsvJsZ9Yt3962vgv0PfJpf+h2Ontm5Yfe/tRWs0IC+FRJz1v/Sdnjk4CMrOJqIFS+egrejPdsyyx+XxcbRvYUsb74++o82zNrDOIG+OX5RfgHAifNJCCEkh2KFEEKmgZ4VFiJYOkumWxIs/paxjr59S/DPiMSrHFhlgHH/g12z+6Uc8H7x8PvjPbOXp5MJG1mFyZGXACSeq8nEykwokHpWUNl987GAeLHjVmKufBAKHvNqz6xCUDV5xbEVJgvIy/XwVrUyPbN7M1GWACtUnh2HeQGnkU9CCCE5FCuEEDItaMFydd0cKGv56GOsFFQ9B+K/aXJrLzCwD+5gJWDRrHxyUOx/uWOW4ffdDbP7RJndXtjkt015slu6Zszy/dhEt+LpLeQ1XGnIbjG7Yjb8MzIZfbP3Pm6hWjRdfavU8a6/pc2KikG3vzn65uDDOZefOZvPktAQ/C1fWFGq8tN7dpQQHaeVT0IIIQLFCiGETBz7plv18Plzv5JhXX67U+nh+ZD+o7VsBSX4eOSB2XjThrm0ZvaUgS3Pq8y/txusTuzfhpEeiwxZoSg/l5KvuARv/PL+43yKQLqxY45f9czRkx2zdWvRzM7MmsU7e+a48YsFwJHpvou8lm/TEvB9mqD+IvrHx+nVkVPNJyGEEECxQgghk8azLbNaJVZwdd+/tUpWUcT4vnInJVWs8e5u64o+Hvlkw1yxYRbuaYNe4r4Svf3K3wIWiwx/S1dqhUKeCQkEgfiPVmck/3CzV+fN4s01s3X/oPhi/7C8khWoaAXEIWVcLQssS//ZgTmqSPfU80kIIYRihRBCJo3jT5ZKBr1GngURIZA92J1eKTjatnHBwI6epcgeoo/eyCVvxHo7evjdC5tYDGXGe8esPYrSlec33t0JvqMi/t0zLK/6ucDJPhBZ8ypj67NfJwhedM0aXpuskNWkUpxSxuiWOEfvuCQ8+p9u5bexnTifhBBCSlCsEELIhOHESPIheosXAjNvrpt9bxjv37bb1ohe+yzbFnqPNszm7ZXcaO/3RK7450liUeKfS4mN8UwMZbeA9Z7KsxxVKxT+NqzgOy3A+/e3jB3c2ypWaXy6yZWh1zY+fAfmqd9OYcPj1qzg1i1/u1xcFlkdwZvOzMtDcyh57FuhEkRg6dt6uqXq6KT5JIQQUoJihRBCJgp5MN26qyum+6SXrwD0X+ybTQiBzoIVDoVCkIfc81cWu48Vbpju074XGvNmy4qMnXv+oXP/1qz4jVzZcynLZicQGT4//5cNs/e0a7pye1j+nEyWR8fLA9N9by79emVZ0cDzHrYc+8Fxm4b7+OWcWdk+yL7TYnPae9I1q+8sm62vYhURkq142LD3j7Lyve6Zvds2H6U3o4nAWrRC0NbHnZ1MiOS3jZVd50MtTIbIZ//AxTmL8vpdhBBCylCsEELIJNHbNRvuORJrBD/dNZs3F82cfBTyjXmzfDv7QGMIjPMF96HDzhsLZuVu8bD34V0Y7ZfN8kf7+cpDZtzH30vxD9wHD8SDQ7Npje7OG9YYt+Inx68y4NkN97X6RNoBtlyr+AL+tVUnokr0DszWzawMMzOzZu76itl8eOgFQT3797asSOvlX9l34W9smP3SK5x7Zvd7s64+lu5IfcgD+VkZYle6ta5pPilWCCGkERQrhBBCTp30KgwhhBAyHBQrhBBCTpmqVRhCCCFkOChWCCGEnC7+7WDVb8UihBBCmkGxQggh5PToyzMec9EHIgkhhJDhoVghhBByKhx8mHgQ/a3o9ceEEELIEFCsEEIIIYQQQloJxQohhBBCCCGklVCsEEIIIYQQQloJxQohhBBCCCGklVCsEEIIIYQQQloJxQohhBBCCCGklVCsEEIIIYQQQloJxQohhBBCCCGklVCsEEIIIYQQQloJxQohhBBCCCGklVCsEEIIIYQQQloJxQohhBBCCCGklVCsEEIIIYQQQloJxQohhEwgx4+7ZuPmopl/o2NmZmac67wxbxZvbpjuoyPT8/7Gw5Hpvivprpt9v3ec9J7tmq1by2b+6my5vI+Pva8T8LpnDh9umdUb82buUhb/zEzHXL62aFbudM3+CZM43/YihJDJhWKFEEImiZf7ZuN6YbBXukuLZvPL8ZjABx/NqbTGLFZeH5md782bji5bws1e3zQHIxa399mGWRSBcmnOLN/aMBt3NqxwmTOzeRqzZvHO/vCiogXtRQghkwzFCiGETArPu2apkzB0K92sWd4+8oFPh/7jdTMXpDFGsfLqwGy8U6xEDHRXbV5e+bCN6JvDj5e8EOqYpY8Py2LkeM+sqzx03tkwB03TaEF7EULIpEOxQgghk8CrfbP2pjJsL82ZxZtrbgVg486qWVa3R4XOGuGfnMJtUsDmYf1qHP+4xErP7N7MRELn2rLZvL9vDo97ptfrmaMnu6Z7e8lcTgiBzq09K0GacbSthEqdSIjK3Xm3awZKija0FyGETAEUK4QQ0nr6Zv/2lcyYvbRoNh4dJw3y/otwFSB3nRWz+9J7GplCPIRuPGKl92DFCok5s7J9WC0+Xu6ZtZJ4WjTdF/54Hc+7ZlHCvL01WHw82zILKp2Fj+tCtKG9CCFkOqBYIYSQtvNyxyxbI7bZLUj64ffCLdw72e1FsgrRubVlNq/ruMcgVvr7Zv3NObP2aYNnOLTo8G7100FrK6HwWtxuspLRN3u3dL3WiKIWtBchhEwLFCuEENJyjrcXzUxn1ew1fVYivgUJ7q0GqwdViCBwz4Qcm+6YxUr/4aqZ//CgekUlwIqI90Njf+BtVE82zJXc/7zZeub3D6D/aC140L/zfvqWs3NvL0IImSIoVgghpNVkqwArD4Z7U1Tv/nJo/I4qKvoH/nmNObPxBDvGL1aGxYmDPD9XfD6rOfjI36LlXMPbxkB/z6zm4eBWzG6pWc65vQghZMqgWCGEkFZjxcKlEQzXF/HtUaMYv3j2Aq8p1g+gt1ysvLlha6yOI9P9js7/2hD5PzY77+qwqVvOzrO9CCFk+qBYIYSQqWTfrJ/Q+O1/tuZulwrfftU+sXL08bzPS6fB8ypxvSyZnSFevrV/W4e1dfNhvTRqzsnbixBCphGKFUIImUoi4/fdHSszhuDFTvaNkDfXom+XtE2sHJmtt7O8zN3eH/ycS2/XrOR5hxviNjBLeMuZdcPWayUnbC9CCJlSKFYIIWQqCY3fZm+8EuQNVXNm/XFs/rdLrPQ/Xc3eUtbk2yeg9NxJx6x/6Y81oCRWvtMw3YGcpL0IIWR6oVghhJBpJHil77LZGeK7HUcfL7hw6W+JtEes9J9uudWfufd2hxAM8e1WVhj8oHnoklg5rfKfoL0IIWSaoVghhJApBB9VFIP6SpPbozz9x+tmzoapXqlog1jpmcPtFZdPrIxc/u6G2X3W9O1b5YfkZ653G99yFT+zMviB/maM2l6EEDLtUKwQQsjU0TM7N7wxPczX0F/tZ68p7iyZncrnOM5PrPSPD83u3RWzcEmnL65j5j/YsyUfzNG9bOWocPJa5kHgw5A6nHVDCJ1qRmwvQgi5AFCsEELItPFsyyx4Y7r5LU7yhfbUcyqa8xErpRWNCtfo2ZWXu2YFLw/QYa3oGFxT8WuPrbuV/jDkUIzUXoQQcjGgWCGEkKlCRMcQD51bjraX3IPqg9+odc63gb3qmaMnO2bz5oKZzfMQuiZvBZPyBuHer1mZ6R2ZnQ/mS2Hmk8/1DMNo7UUIIRcFihVCCJki+l9mz5zgVq7uc79zEM+72WuKG60utOcBe9M7NN3vlQXEzMyC2Xrm/VQiH7wMw3auLZvN+wfmqNczPStQDh52zYYXRnNXY/8ds/7YRzciI7UXIYRcIChWCCFkWugfZM+cDLyVS3NgNvxzKs2M5RaJFc/RD8qrJFc+avLYe88c3F2sXKERN/v2quk+6ZnD/OOT3nXWzN5J7gEbqb0IIeRiQbFCCCFTgawUdMzSdtObiYowg7/8LrRPrKAccitV7ob5/snLA7NzZ8UsXp3Nw89eXTQrd7pm76ncGBaXe8Z0bp+k5KO0FyGEXDwoVgghZApo/syJ4smGuaKM79NyJ701aiTUQ+qZO2URVYq/ya1m1YzUXoQQcgGhWCGEkAlHvo0ytOFrwxXG9+m5cxErY17xObhzRcU9YzoneAvYyO1FCCEXEIoVQgiZZPzD8cN9xd0zVWLFmCP9TEln/VQ+1uh4uWOWVflmZhZNt/I7NAM4SXsRQsgFhGKFEEImlZd7Zu3qCV55+/LQ7D3aG9LtmLW3tOG+bDYjP4fn9FHD4+3FIl83dxt9IHIw8fMwJ3jG5KTtRQghFxCKFUIImUT81+ad4fva7zsT2viAfYYWK4vbJ/+uPOh/thY81zOy0Di39iKEkMmGYoUQQiYNMXzf2TAHr/y+M6O9YmX/tqyALJud01jdke/PSFmv2rKOUt/n2l6EEDLZUKwQQsgkIYbvtREMZ2t8L17vWrlxEloqVvp7Zs0Li7lG31gZgK/nUxMq59ZehBAy2VCsEELIpNAb3fDtPd4wC9aYX75/0ic5RhMr/adds/p29h2TzhtLZuPRABP8Vc/0Gr8qS32N3oqKg5O+YuvVodl6t3hOZeQVkVa0FyGETDYUK4QQMgn4h7NnZi6bxVsbZuNOM7d6Y97MvyGG94rZPbHtO4JYeblrVvTtVM5VPajeNwd35vMv0s9eXzc7X9Vlum8OP/ZfsL+6ZvZOevvX8a5Zuyb11TELH+6P9qB+a9qLEEImG4oVQghpO8+7ZvlSZryfxHXeH/3bIAXDi5X+wxXlX7vUsyX7Zj3hF6Kl+/ioWG153TfHT3fNxvVstWb2+qY5OIlh//rY7N9bNfMiqq6umG6tSKqhVe1FCCGTDcUKIYS0mP6T7HaglDE7nOuc0vdPRlhZqflS/tIn8e1g6pauBs7dUvbQihgfehj6vWNz+HjHbN1aMpd9HSO+9fuHI7/2uH3tRQghkw3FCiGEtJb0KsNI7s2NU/pI4ijPrPTNwd1lM4fVhksLZvXerum+nwmS9CuG++bo4VZ0S1TmOm/YfddXzNrdrtl7OpqkCL7HcmnOzL+1bFZPEF9BG9uLEEImG4oVQgghZ4//ev5pfQ+FEELIdEKxQggh5Mw5+njeipUrZuOJ30EIIYQkoFghhBByxhyYDbwpi98QIYQQMgCKFUIIIWfK0ccLZqazZLrP/Q5CCCGkAooVQgghZ0Qv+yZKZ96sP+ZLeQkhhAyGYoUQQsiY6Zvjx1tm9VrHzF7fMHu894sQQkhDKFYIIYSMleNPls3CzU2z++ykrwYmhBBy0aBYIYQQQgghhLQSihVCCCGEEEJIK6FYIYQQQgghhLQSihVCCCGEEEJIK6FYIYQQQgghhLQSihVCCCGEEEJIK6FYIYQQQgghhLQSihVCCCGEEEJIK6FYIYQQQgghhLQSihVCCCGEEEJIK6FYIYQQQgghhLQSihVCCCGEEEJIK6FYIYQQQgghhLQSihVCCCGEEEJIK6FYIYQQMoEcm+71GbO4fey3h+Wk4QkhhJwFFCuEEEIIIYSQVkKxQgghZPp50TXrXEUhhJCJg2KFEELIlMNbvgghZFKhWCGEkIvO43UzM7Nu9l90zeLMjP1v3e19fzDjeHsx2w93vWvNf48Lu2i62/iNjjn2zbqEs279sd972+/z6eTbkT8RGjO3u9lvfiyLt/BXEYcuk3M2ry+c71J42Zf7DcqSHYPgKepC4iKEEDIuKFYIIeQCkxQhToAUKxHwo1clnCiAyPD+nIvETQzChCsbx2b/sd8WsZRtZfG7vHih4tLQwqAQFbnYqIzDbeVCIyMR3u+Lt7M4Cv9wWTwiourLTQgh5GRQrBBCyAUnEyyFoQ8KYz801Avn/cvKyqAVBqxw5OLB8mLf7JfCKHGS+60SBbG4EFJxZH5DsRSGd3Wg8weCspXjyEUbIYSQsUGxQgghF5yUWCmMdxjpNWKkqVjxIkLEwf52KAyc4e/jCYVDc7FSHcdgsRKuxHj8LWSZH4oVQgg5DyhWCCHkgpMSK4UhXhYFAY3FihIQVgR0VXyhsIi3m4mV+jgGixXnPy6HEyuyj2KFEELOA4oVQgi54GSGuhIkgZGeNuTzlZEhxEpu8FsRoU38LH4RS16cNBQrIh6axOH8PrZCKSk+sm0teEIxQrFCCCHnAcUKIYRccMTQX4fxDYPdunglxRnm/lh+3AkV2ddMsCQNfH+7lcSzfjsTTzMzv2b+7xAdciwSDrLfCYjKODIBk+ffxZEI7wj316UX1IcSOIQQQk4XihVCCLnghKsShBBCSHugWCGEkAsOxQohhJC2QrFCCCEXmEyoyC1NFCyEEELaBcUKIYQQQgghpJVQrBBCCCGEEEJaCcUKIYQQQgghpJVQrBBCCCGEEEJaCcUKIYQQQgghpJVQrBBCCCGEEEJaCcUKIYQQQgghpJVQrBBCCCGEEEJaCcUKIYQQQgghpJVQrBBCCCGEEEJaCcUKIYQQQgghpJVQrBBCCCGEEEJaCcUKIYQQQgghpJVQrBBCCCGEEEJaCcUKIYQQQgghpJVQrBBCCCGEEEJaCcUKIYQQQgghpJVQrBBCCCGEEEJaCcUKIYQQQgghpJVQrBBCCCGEEEJaCcUKIYQQQgghpJVQrBBCCCGEEEJaCcUKIYQQQgghpJVQrBBCCCGEEEJaCcUKIYQQQgghpJVQrBBCCCGEEEJaCcUKIYQQQgghpJVQrBBCCCGEEEJaCcUKIYQQQgghpJVQrBBCCCGEEEJaCcUKIYQQQgghpJVQrBBCCCGEEEJaCcUKIYQQQgghpJVQrBBCCCGEEEJaCcUKIYQQQgghpJVQrBBCCCGEEEJaCcUKIYQQQgghpJVQrBBCCCGEEEJaCcUKIYQQQgghpJVQrBBCCCGEEEJaCcUKIYQQQgghpJVQrBAywXz77bfm+fPn5sc//rH56quvRnYIj3gQHyGEEEJIW6BYIWRCgbCAyHjx4oX56U9/an7+85+P7BAe8SA+ChZCCCGEtAWKFUImFKyEQGCkxMeoDvEhXkIIIYSQNkCxQsiEglWQk66oxA7xIV5CCCGEkDZAsUKIBYb6559/bnZ2dswnn3wyEQ7PmsRi4zQc4k2lNy6HOkfdI21CCCGEEA3FCrnwwEiGwfyTn/zE/Nmf/Znf237GKVbOEtQ56h5tgPQJIYQQQoRzFCvHpnt9xszMZG5x+9iYx+tm/bE/fBq86JrFmUXTfeG3h+EkYSOOtxfNzPWuLfE04dvvBOXav120/8zMutn3+88aXNWHsTxpTItYEdAGaIvxkxh7Ioq+WR4D3PlcccyBseP2afbmQ7OXWJF68MNv/PHJ5psfPsjK9OALU1mip3uZn71Dv2PSkDbcs//IKMT9pFG/mRZ8/8/P+Xhb8/UX5sEp97XDPcTX1jHnG/PFgyx/e0/9LjJ1nJtYccaAMnTFADhVsdICcsNmqsTKvll3xtro5cqMwUKgxP3hLMEV/UlaURGmTaygDdAW48ULlVxMZNtasAQXF+KLFo/X836bvghhz42x9GNMyA/MF1/7TW+QtGJytnnZG9GIcQanMzZhzIfG1Tc/3CvKa4HBdNLyHu4VaRRpj4m4XmBgnonYyoRRs7oaxu/5EfeTL2v6TRPivjUQd76p8+8McAJB9Ze4/9eeD6fe16Lxp4oTjAUZtj1Hyvdo/eBcGUufKp/PQ/f1Oprm+cT9oMw5iZXM2C0Jk9LKivU3xBXK4+31kVdCThJ2EGmjZvIZvVxlA1EbgWcNrshMItMmVsD426I89rh+nI8zOB6umOjjQZ9P9Nn92+Pqw3YSCgzr7GpiG650Hu6NOOG6ia/KwIjLewrGCNI7w5WZuF5OQ2xdSOJ+UttvmhD3rUkg7v/158Op9zXUeYM6G3ks8ECUjpTvM7sQMGmcT18/aT9IcU5ipdktRO5qe1Ox0pJbvlJQrMRUiJUhhOlpQrESuosgVnRfwziTi5eUaFb7asWK3R7bynBpMoaxog2S4laIT/yVL3dl1m47QeNuGymMGzkW3ypS7PdxO8PQbvsJT269CY45V2U46XyJH73PusjIkDSCY0jL/ZewA/IdoY8X9WG3XZxZXUqcmV8fv/cXxKnLnTIEkvWCfGf/gzoUJD9wUX0ACePy7uPPhKqvjzwfUj9ZHwjC5cd0ngq/UkcuX0G5ff3otsjjBIXh3DyfCUr1Kvnzbu/LaDvMTxFOUOH9/mTfUqSPp/qHciqeun6Yx63TtfWs61jChO1mQXtE4VL5z0C598wXkl5c5wP6Wo74s+EPbVxFeyfKqdsg71+WqrTU/qCPOacM3cq2DesT+YnruwrJ+4MfHrr+UZd+qj9k4Ysywk9WN6l+4v358hZ51H7DcOK3qO/oPPCuXF7xF577zlW1c9Q+cb/LtqU+onzm23DeT6kfhHlv2kYpzu+ZFTfRW6PBuvI9496gUM4ZAU5UqP3eaHAGRGJ/yZjIw9t99v+6TbdxWKDyHN6vHuc3DDfIqBdRpvMSGj1e3JXi1/uz/GS3V2VO6jXflxtoYX6LtLL9i9u2btyxegE3qFzVFGIlL3MsVHxblfvG6YOTaBKhWBkRfx67voV+pvpesk+7vujPBTUuhH7tuRP34VMknIz9BJBP3tmkIce1X/f/h3YCeWAnVOc/CyuTUXEFLNxfTMAWTEB+IsO+4Bgmu6qJMMpX7BfxVE1eYXklPzAukF/ktUG+A3SYjDANm1dvlO09Rb6t36dhuR1ucteTtfyPiOsFdaiMPh0n/udt6f0lSyB58/Eg/qz9onxEcWThpPxRPUR+XXy+3KifrM5t3Lm/Iv28TpLpNcinpqZes/j8hiXYrgyH/9K+KHMRX9y3Csp9JCdvT1sfef+yaeRtjLAN+iHiyesqC6PLUuQrzEttHcSgPWzZs/TL8TTpa6ijvP+6+CSOmnLmdZRRlVaw34bJw8f5QXzJtg3zEPqro5z3PFyU94yw7gDCZONDVX+yx2wZBo4jIEgzC/eN7MuPZXmu6hclojqs7uu+/OJXh/P/g3Nc0HlO1plF74/b9ASc4wP2llw8xEYz8IZ4bgBEV+N92DyMMyKUcZ0LC23Yy3Exyn1cA8NalJGS580bKuEKUBS3pdqo9/G4tIowmbiQ/ETlzsMUeQvTtwR5Bfumm4dH/tSx3BDL8l0qdw2pcmmxlHTOf1wmSynPZ8cki5U/+ZM/OXU39WLFkovkqP8OFCuWoo/rfdJ31TmdPOdHAZNecXXKOTVJZEalTAd6Mssmywd7xWThJqjEBBPv15Ocm6Ct4MnuQQ4nz7rJMMyXJZi46iZd5FsbH5nfvT1/7zXi8cfr8h1QmjSjNOwE+8DG78ro4pd6y8qblSOrzzzPNRNxnA/kM4/fx+mOq7I4qgwAF8aG98/cuLpFnSAOhFFxuLTyes/CfSH3rUfphX5t+VwaqtwIa8O5eg7arihfKr0m+Syoq1fEp/uJ3q4OV+p7OVG7R4RlKSj3q6ycuh4b90OfPp4leJD3LRvGnmN5yo3roExchvyCRNT2lX0N+3W/DvJcXc6gzFVpxfsVYb6r2zbOQym/FdSHS/eLuC4ddeHsscHjSEZQXwiHMdbnD8cyv+X464RZuQ4r/Fa1j6OcVyHs1+n4Qz/1fXUYzlesCLk4SBjlqauVyn+lWAGBATwovsFhQzGVQImvZmIFpPKlBE+QD09SqCk/blsf7+Zly420yGX5LQutOurLVUdW5jCd4dI+TSZZrPzxH//xqbvpFyu2r6Hfyvmq+nCyT6fGBwXCyLlWhE/18REJJpIYNWG4CSicAD+BQTXQyNH7EZ+eqLKJKz0543/VRFSeyAJjQRkfJVy+1TFfrjxPeX3U5TskaaiobUywkqbzm5dLlVGFyfyUJ+qMuF6q61AbFzoPJYK2zcoa5CUvS9TGlXUHIr84JvmOwhXGk8Udk7JnZcv7XON8KurqFfHFfUG2K8MV9VsCYarq2BGVx1GOL3xoWddjVuaqfljEla3Q5PVqy/WFSlP3i9o6KIG86LwWeddxVve1qE9YinarKye2i3BVaQXlCojqfYi2DfpmJeVwpbwk+0aUL0uQXhQmLmtyHHGE+XHh8u2wDbJ4cFz7SRG1XU1f12XXeRZwPDwHQLkOy2nE5bSgv9bmuxnn98zKdiwavNFeJy7EuHD7MuO2uVixeCM+c/H+urBRWiWy41VGSr1RnyinisOF1Xl1xIa9zp8Ne7tr9lWa+9tF2i6+lGBzxPHWU1+uOsp1JPuq8zY+JlmsHB/bPnLKbrrFStbPinM56nfxmAFS+wQ7JuF20oywX49+foSUJlWNmwj8RDZwwklMNg7sr5gM44lGGRG1RlPpWJZGyhiJicuLbe0Xk2sWT02+I4owGeF2OMHiWMoYcfnw6VW2B4jLXlOHzlDwcYZtFRLUQRBfZExFaVfXnSXyW1XuuH6COOFPla1xPhW19Rr3E7VdGS4qlwZhatsOxOETeQjjaN4PpS6xegV/WX6scFGrn1ldhfWt06stA/JeUV+N+lpcdteG4r+mnFG4qrSC/heAuKN+5MMHZU31h9g4ThGHc+Uqh0vmLyibPheyPl3kTx/L4sqPIf3KPhWGK7WB9VvZ3pooXF0/qe8L2e22QX2BuA49QZ3FeffU9tmGnOMD9onJPzAKYuM1FgzR9kDBochXQPyxgWFDIyQkPlb2O7xYUWVz+dDlBnFd2D1yK5gtWxf7XRlRJn0L2KC8nKdYGS7t0wQn7CRCsTIC+XnhtwH25f0Y/TA8XrrNMsf249u6/4f9+nTESjiJl0hMbNmkGF1lc4STYjGBRGkgTtmOJig9MQ00mvI4s0m9Kp6Qcr6L52qAzmtNvgPiOkyEy+swPKYNjri8+pimVC+RsaHLHtZDVk+petH+gvijMqfyWMQXli30G9Z7EC7vUxn5MVdvNo4m/aOybdJ5lu0w/zXxW/JwUVpFmNQ5Idi6kTJWhgfWny6vu3Ur0Z8qyprlIexTJWPb1avUt+RZ0o23QxBfntfacmT5KLY9Om3339ZxHkd1OVNtkUorbyOg04rGmcq21f5cv7T+VN+sRIdz+bbjkQ+n66zIny2rrgcpt8ozxiXUT952ujxRXQXltgT1E4SLyx72lzrK4ar6epS+T6OoA+Rb8m9799MsTh0mXWdRHmyd6/26fUfhHMWKEguOstEeGuCRMRsb8coIyVcSAhGC+FV6zr/fHhjWGx4lIwbho3y7uEKjOwury6op10Vo5Aw67vHiaj1fRcnCLdoy6zzbXLt6DIwvV7/4M5xgcO1zArGiw9bX0XiZZLHy9ddfn7qb7pWVcv93fa9qW40NManXnRfnpj//TiK+McFiUnWumPhi3EQg/vSErCZAQfsNJkCdlgqXmtTgB/twLPavqUwrnwhT4JgOE/l1hgOO+30V+Q7Iw/iyRHHEE2wxqYbl1dvFvjJxvdTVoS5v9RViXQcIr/xJ+VVa2G5Sd4HfoL+E4fJ2dPWi6gD+g/Sb5zOkql6j/Je2q8IVZSvHl+0L+6NF9ZEwTJFG9sB04Qcu6DeyP1lGwcb3Q1UCW7c6345SnSJeKXe8HaPyWMqHzn+9IZuHl3qRuCrKGYTJ9qTT0vWswhdjhe4/Ej7dHq4/Sn7w38XdsF5UHX+p+kqep6r+oMqfvbSiOD7KOFIKZymdwzaeoj8Pbrc8nPOf6OuOcvtIG4R5lPTCPBf5sU61o+4H/9+8TeGq2qU553wbmDccxGkD2pIZsIVRWzzYCr/WMPf/M4OgiEuvSGQOxoZN8/aiExKyv1iZGBQ285XnxzsxRIL9VhysO3FhnS1PGCZljHvDXZWn7M/7keNJgVAWGoXhFOEFVRhf2Bb1RlbUbhXGXDXekLNlLvIRxZEQfeNikj8K+c0335y6Oy+xcjYfhQRR/43GHVCMNVVCxY4lyb6pztXkeUpgCJz2B8PIFBL3E/YbUgsM6pMbxa0hKb4gMqaojEPQjgfsLzQiVsoG0/TixcoZCJEmfP755+YnP/mJ35ocICpSb/M6qTsvsYI2QFuQaUQm2SkzKMgpE/cT9hvSBPSP6lWHicSt4kR9HgJGrWRcJChWzh2KlfMG3xbBFX0Yy5O0wgJR8fLly1N3Zy1WUOeoe7QB2oJMIzAmcDvAlBkU5JSJ+wn7Dbm4FLfHeXdBhQqgWDlX1C0jFbejTCfZbTj6BQHnDYxkXNWHwRwMDi12P/rRj9xKyE9/+tNTc4gP8abSG5dDnaPuKVQIIYQQEkOxQsiE8vz5c/OHf/iH5mc/+9mpOcSHeAkhhBBC2gDFCiETyrfffmt+/OMfmxcvXrhVEaxMjOoQHvEgPsRLCCGEENIGKFYImWAgLLASApGBZ01GdQiPeChUCCGEENImKFYIIYQQQgghrYRihRBCCCGEENJKKFYIIYQQQgghrYRihRBCCCGEENJKKFYIIYQQQgghrYRihRBCCCGEENJKKFYIIYQQQgghrYRihRBCCCGEENJKKFYIIYQQQgghrYRihRBCCCGEENJKKFYIIYQQQgghrYRihRBCCCGEENJKKFYIIYQQQgghrYRihRBCCCGEENJKKFYIIYQQQgghrYRihZAW8e2335rnz5+bH//4x+arr74a2SE84kF8hBBCCCGTCsUKIS0BwgIi48WLF+anP/2p+fnPfz6yQ3jEg/goWAghhBAyqVCsENISsBICgZESH6M6xId4CSGEEEImEYoVQloCVkFOuqISO8SHeAkhhBBCJhGKFUIsMOw///xzs7OzYz755JNzcXjWJBYbp+EQbyq9tjjUOeoeeSWEEEII0VCskAsPjGQYzD/5yU/Mn/3Zn/m9Z884xUqbQZ2j7tEGyC8hhBBCiHCOYuXYdK/PmJmZzC1uHxvzeN2sP/aHwYuuWZxZNN0XfvvEZGm6tALCvKz/f0473TPA1t3MzLrZ95vjo6oOJxdc1YexfN5cVLEioA3QFmeCO1+i8cdzvL3o91eMARiXbo//TCs4NHuJFakHP/zGH59svvnhg6xMD74wlSV6upf52Tv0O6aVb8wXD7L23XvqdyUI66wIMy19IsC3fV62eFvz9RfmAerlkz171pwOh3strtsxlJc0odl5ejKq05A+GR/LxwXvwj6bnkcy1/7+c25iZf+2NQaud63pmyEGQiBWzgjkRdKN8zUR5IbXuMVKIeqmSazgiv55rqgIF12soA3QFuPH9uPbFee4Ev1uTCqNBftm/VzGB0xcD8wXX/tNb6SMb6IcApuXvRENOTe5OoMbE2k4YX7zw72ivBZM0Cct7+FekUaRdttQdeHaWbW7Jayz3zKfWoPGGSUw4qdCzGVGlW7ruO1r+8Kp10N07lVxgvMgw5Z7lHxPYrsn+vXkUR6zxoE73xPte7in688LGz2e+TlCi/z8nIn6zOHTUyhF0zYd8Tw5J7FiJ/yUMIlXVs4E5GXCVlFScGVlZHBloQ1cdLECzqQtasaZQKAkzqn922dxjqWwE2NgWGeTUxuu9oaT5hC4ya1qso/LewqGAdKbBKOuzviM6qzKkJku4rav7wunIWoDUOcNRO3I54EHbTlKvk+9vKQZZyQS3Tle6u92/P+h7PFCJZGX4sJGSNhnvjHfnKFoHPU8OSex4q/Qt2EF49RvNTsnKFZGhmKlPYy/LYrVwdRtXrVipUbkjJ3SxAiDLZxw5JaBT/zVLUxI2M6vuqsJT47Fk2Cx38ftjGO77Se8bOKMjjlXZTzqfIkfvc+6aJKVNIJjudCQsAPyHaGPF/Vht12cWV1KnJlfH7/3F8Spy11nxOb+bFyIp8ZvXmabH6SfpafzFdXZb32q6l7lr5S3Ihz8BMZLohxST0H6Qb5VPqLy1LWBLl+OrROdTvZf4lcGDeouChdsByD8njXkfHpRHvN2j/MSI/5s+EMbl74oUCqnrkfVLyvrQ+VBlz/bp8pd2c90myJskWY9ko5N4yniDvt4mI5qZ5eO2+nLVKSHds3qRuLOjgX+fPxFHWi/YTjxW9R3mA9xQX0qijov6lH6XhanxFeUAVS2VUT6PAU6n2Hc4THJV7p+y1h/VpQU9eyxfeMLHybLU5xmhjsWnwOuztP+A3S/sOUN61HSlfJE7Zhvw3k/FedJU87vmRVnCAy4pSh5ZVMMDe0yP9mtZPifrdy4Y8G95eGKjtx6VjhvvKQMf5Xf2MiJ81QYNFl6KF+RVmwgqbx6vwXhsVpDaWCe/bHUPpVOnkbSH2giVlS+Xf1n23G9hG1zfuDkaQMUK2fbFnJOBn1ZnUeBcEGfPcf+mpwY80komxjkuPbr/v/QThIP7GTn/GdhZcIprnKF+4PJEZOMn6ywLziGCa3S6AvzFftFPFWTdFheyc+hzSPyi7w2yHeADpMRpmHzausHhmlmAFq/MOhUuR1uAtcTcsWkW/JX5DEkzH8YzlJbZwgb+U3mzZf9h3uuH7j4asqR9QnZp49l5cjS12mHZahsA6QZGcN5Weyx/D/6mzKwwjKXtwO8QZSl78vt2xzh8vSjNDToF3mdu/gkjppyBu1U7S/Igw2Th4/zU9U+QX6ivNaRKIeEi881R6J+snqP+8oI5xAI6isL943sy49FfcRtF2UPCes8zn+Wdwmv4wnDlfKZE8Vfap+wLwdlU8fy+krUbxLrz4mSUnlsPbt/WfzpPGfplcRKkL80QT/Vafv/sYB36Hir0miQdhXn+IC9xa1qiEEcGeO5sVwYyoUYcVvB6kwoPLwfF4eIg4RBDuKVlUS62oCJ0w2P2VTyZ16UwW5dZhD5sLnRExrxWRl0flUeBq0ARflw28q4KhlecVwvrMTTdVAZdpBYiY7buNa327161Sax8id/8ien7ihWakicV8XFh2J/cfuXP4dxPD8nxk02IWVXpLxTAz4mpGLi0BMxwtlJZU9Pct5YjYj3ayPETfR2cszuM84m7dLkmyDMlyWYcHU+Y5DvwiASv3t7/hkWxOOP1+U7IJrsS2nYSfSBjd+V0cUv9aaNlKw+8zyX4hQifz6OVL5K7YHJXMUZlieqsyD9mry5/yiPpFNXDnvM/v9Cnu1R+Sm1p2eoNsjbDcKpiO/Q9i+JGfGl+zOIt0PCsMiL96vSdtQZU3ldWII8V5dT/6/0F+dBEea7qn3K/aiqTUIGhEvWRUU9B/WDfIZ1OvgcytD15cJhfPF5KPJWjj8Q8oq4zsOwSB+rbaOPH6X4VT2U2iBvr/iYrtOK+o0oREkUVsZ0X8/peFAHUd4sVWXMUfXjQFnzsiMf5ThBGG/Udp6BaddwvmJFcIZ2ZgBUXeUEzoiIjWh1PN4uGyKhOHCkRECQbmacBGGSpIyYLD1dJl0Gl19VHk1WFh+fcpUiIZHncviinIhfx3X8eN/neVDY7HhlPkr16eM7M8NueNokVv74j//41B3FSj04Jyv7swXnSnBBwfXlAefBaRJMFjFqUnCTTGgEfIKr3/lEVjVB6v3xBJdNTmkDBf/rJspwsgomfDWhl1CGgMOXK89TXh91+Q5JGhtqG5OopOn85uVSZVRhMj/lyRjgWJiPcl1klPeHxk10PKqzIJ2avLltXZ915cAx1YeKNKrK0LwNijgOreH4TVFWWy65pSWMzxL3k7p+48LqPBZ51nWl2zokStvi6sfVVV05sS3Hqv3pPIQgTHTeptpH7c/Q6dZQClcuZ9jvPO68C9s88Id4VT3qes3yretBp4ftIl4XLt8O85bFg+PaT0y5PEHeXDmifA9sU02YX1DUQ/lY0WfUMZ+HwFBP1G+MFvF5vm24/AF17KuII+g7OYm6ikA4qQfdpgKOlwVHuR7i/pH5qU+7jvN7ZmU7NtLFSFZiIxIrsSE8SLycjlhJhInIrsRmcRTGjDtSK1bi/GtcPBXHkgwrsFy5izJ28zwOCjvASHP5COuzrpxtoE1i5fjYmsGn7ChW6sG5Vie+16NzQ/yG5/r40JNHCT8Jusl84KSSmFAc2F9hEMQTaj7RW3AsSjOndCxLI2WQxcTlxbb2iwk0i6cm3xFFmIxwO5xEC0PEoiZclw+fXmV7WJ8pQzBZ1rgOsK0n89TxZD3U5y1+oLXer96nylLZ1s3bIPOLFbLsanHWzla4qJW/OJ3MT5FqvB2AsBX15drA51P3g4C4jNjO/deUMwhX7U+3VwjCFH6r2icO78qUbJOQOJyLvxQuzIMQ1nfWfllfQt/Q+dPHsjTzY2gHnV7Qj8NwpTawfivbOyfOe5g3V97keYNw6bYKiM47ty15jvPr43Tx+/7j4q9op9r+bOOCqC/w5Xxqxb2uL11/gk+7FHcpv2Vcv/L5LvfX7FbcoD5AXEeeoO81SLuOc3zAXokKIRYn8bYlEwbeRYbCeMRKvXEeGyzhdoOVlQpjZ2hDaIg8ZxR+jre7RZ0NDDvgeJM6bxk4KdsAxcp5raxE53+O7evBK47Dvj/0OToS8UQcEU8AmDTcduoKGuIq9hUTZZSGm+j8djQJ6cmndqLVcbi82MmvIp6Qcr5DY1vntSbfAXEdJsLldRgeQz610aPLq48VhPmHn/Skb9F169rNxq/aMq6jcDvMZ3Xe4rLX+Y3qXtdLVLdFXhJ1GaVXkPUDSRv5CMSZJcyb5Mem4eop3g5B2Lx+KvMLsnzounXE5UV75HFUlzPMc7W/op79fkkrOseq2keXwe1D/pS/KnS4rM51e+vy+baw+ZF4nX/Jm8ozzkmkn+wrUR0E5bbo/ITh4rKH/aUalXds2fi1OAjSC/JW3VYBdedpECbLb6q+HC6s3a6q3xgtSjxx2UppAqSTt3FIWBdpQj/huZK9+l3qzfbJp1kaOgzKVPgv8hG27fCco1iB4NBCxO/TV+Cjq/QwDuoMcGc8NBArQRzOT2RMJ9ItrxZk6YRp+jI0FCuSdpAfm3aWlyxsUB/Wf7fK6I/ynG2H5QpFicWHWYxXuWrDJtopICxzVj/iX6/gtIc2iZWvv/761B3FSg3o6xV9+Xh7PTjngevP7vwOhctY8JNO5hKTqMdNeOKvaqL0aL/BxKHTUuFSExf8YB+Oxf41lWnlk10KHNNhUgYFjvt9FfkOyMP4skRxBJMo4ssn/rC8ervYV0aXO3uot8q/ig9pSllc+nG4qB6CfIKKvJX8gQq/KeMKfvy+vL11GCD+lN80Nt38dat2y9ZTXCeSRtH22JZyx9sxRd8p50MdS12J9gR9WvqJxFVRztJ5UFUfqh/q/UV/kXLVtI/aJ+niv4uj1M4elR/Ua1HHX6o6Kc5R3X+DulbxxP0aYYY9h0rhLKX2t/Hk9VvTbkGdB/WAdldliM79yrYKUO2BuCWMT0fXly4LCOoy4T/dl3VfjY7btOM0Qv8Vceq+BxfUUUz5XJE8h20o7RG2adFe1tWdJ0NyzreBeYNcnDYavMGcOW+EB/sKB4MhN4qds+LBCwHZt/44TKscxjoYIal0LbHf3EgJ0lk067fF3/9m/rd8f+Y/uSoU5TO4Ult3TDNsnnOyOkmteqTDeqEi+6sES1QnyE8Wn+QtIcTOkTZ9FPKbb745dTcpYuVMPgoZjyGVQqXqwog6B6rOR1KPnThH+SjYhSaqs/iDmeSCA2O01gCdMJxxHRvdkfAgF4p2PGDfkNSVTlBaMSBkCD7//HPzk5/8xG+dHxAVqbd5ndRNilhBG6AtyDQihgauwtHgaEZUZ3LFetoMU3Iy0B9GvFrdWtzqRTROTGM5SWMmR6y4q/XFqkGO3V88AEvI8OBbJLiiD2P5PFdYICpevnx56q7tYgV1jrpHG6AtyDQS3zpABhPVmbvaPPptFIRMEuHtUuz3F50JW1kJb03irRjktICRjKv6MJiDAfIM3Y9+9CO3EvLTn/701BziQ7yp9NriUOeoewoVQgghhMRMlFghZJp5/vy5+cM//EPzs5/97NQc4kO8hBBCCCGTCMUKIS3h22+/NT/+8Y/Nixcv3KoIVhpGdQiPeBAf4iWEEEIImUQoVghpERAWWAmByMCzJqM6hEc8FCqEEEIImWQoVgghhBBCCCGthGKFEEIIIYQQ0kooVgghhBBCCCGthGKFEEIIIYQQ0kooVgghhBBCCCGthGKFEEIIIYQQ0kKM+f8Dyk3ao8SdpjwAAAAASUVORK5CYII=)"
      ],
      "metadata": {
        "id": "9o45Hz6zC3Zx"
      }
    },
    {
      "cell_type": "markdown",
      "source": [
        "> Для 7-ми дневного теста для наблюдаемого эффекта необходима выборка в 24 тыс. игроков, у нас же почти в два раза больше."
      ],
      "metadata": {
        "id": "rOQbrbXJC58E"
      }
    },
    {
      "cell_type": "markdown",
      "source": [
        "> Непонятно что нам дает это сравнение в калькуляторе для поиска выборок; наверное то, что держать тест один день недостаточно."
      ],
      "metadata": {
        "id": "Pv35A67tFsdu"
      }
    },
    {
      "cell_type": "code",
      "source": [
        "z_score_1, z_pvalue_1 = proportion.proportions_ztest(np.array([a_1, b_1]), np.array([n_a, n_b]))\n",
        "z_score_1, z_pvalue_1"
      ],
      "metadata": {
        "colab": {
          "base_uri": "https://localhost:8080/",
          "height": 0
        },
        "id": "9UInCXC1_oQm",
        "outputId": "6f5e4c18-335b-41c3-970d-d99a8b83901b"
      },
      "execution_count": 20,
      "outputs": [
        {
          "output_type": "execute_result",
          "data": {
            "text/plain": [
              "(1.7840862247974725, 0.07440965529691913)"
            ]
          },
          "metadata": {},
          "execution_count": 20
        }
      ]
    },
    {
      "cell_type": "code",
      "source": [
        "chisq_1, pvalue_1, table = proportion.proportions_chisquare(np.array([a_1, b_1]), np.array([n_a, n_b]))\n",
        "chisq_1, pvalue_1"
      ],
      "metadata": {
        "colab": {
          "base_uri": "https://localhost:8080/",
          "height": 0
        },
        "id": "Y1d_A8mwHd5i",
        "outputId": "9a89823a-9939-47a3-a04a-1896c9730a3b"
      },
      "execution_count": 22,
      "outputs": [
        {
          "output_type": "execute_result",
          "data": {
            "text/plain": [
              "(3.182963657512031, 0.07440965529692188)"
            ]
          },
          "metadata": {},
          "execution_count": 22
        }
      ]
    },
    {
      "cell_type": "markdown",
      "source": [
        "> После однодневного теста p-value > 0.05, значит мы не отвергаем нулевую гипотезу и считаем что стат. значимых различий нет между версиями на каком уровне разместить ворота на 30-ом или 40-ом."
      ],
      "metadata": {
        "id": "kEru2EDWH7Pg"
      }
    },
    {
      "cell_type": "code",
      "source": [
        "z_score_7, z_pvalue_7 = proportion.proportions_ztest(np.array([a_7, b_7]), np.array([n_a, n_b]))\n",
        "z_score_7, z_pvalue_7"
      ],
      "metadata": {
        "colab": {
          "base_uri": "https://localhost:8080/"
        },
        "id": "W98-0_ETI2st",
        "outputId": "2d2442cc-604f-42dd-9541-a8d8dea34e9d"
      },
      "execution_count": 23,
      "outputs": [
        {
          "output_type": "execute_result",
          "data": {
            "text/plain": [
              "(3.164358912748191, 0.001554249975614329)"
            ]
          },
          "metadata": {},
          "execution_count": 23
        }
      ]
    },
    {
      "cell_type": "code",
      "source": [
        "chisq_7, pvalue_7, table = proportion.proportions_chisquare(np.array([a_7, b_7]), np.array([n_a, n_b]))\n",
        "chisq_7, pvalue_7"
      ],
      "metadata": {
        "colab": {
          "base_uri": "https://localhost:8080/"
        },
        "id": "uLqi3gvcI925",
        "outputId": "63bfce75-0a3d-4d6b-a986-bced26974e47"
      },
      "execution_count": 24,
      "outputs": [
        {
          "output_type": "execute_result",
          "data": {
            "text/plain": [
              "(10.01316732868897, 0.0015542499756142788)"
            ]
          },
          "metadata": {},
          "execution_count": 24
        }
      ]
    },
    {
      "cell_type": "markdown",
      "source": [
        "> После 7-ми дней проведения теста p-value < 0.05, мы видим что между контрольной и тестовой группой есть стат. значимые различия. Значит перенос ворот на 40й уровень повлиял на метрику удержания. Но так как она уменьшилась, а после однодневного теста различий не было найдено, то мы не будем рекомендовать переносить ворота с 30го на 40й уровень."
      ],
      "metadata": {
        "id": "Q7kqrpJNuaix"
      }
    }
  ]
}