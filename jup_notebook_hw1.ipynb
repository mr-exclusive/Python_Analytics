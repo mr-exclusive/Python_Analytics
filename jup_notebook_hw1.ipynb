{
  "nbformat": 4,
  "nbformat_minor": 0,
  "metadata": {
    "colab": {
      "provenance": []
    },
    "kernelspec": {
      "name": "python3",
      "display_name": "Python 3"
    },
    "language_info": {
      "name": "python"
    }
  },
  "cells": [
    {
      "cell_type": "markdown",
      "source": [
        "## Условие 2:\n",
        "На складе лежат разные фрукты в разном количестве.\n",
        "\n",
        "Нужно написать функцию, которая на вход принимает любое количество названий фруктов и их количество, а возвращает общее количество фруктов на складе."
      ],
      "metadata": {
        "id": "Jwdvf56io1Fb"
      }
    },
    {
      "cell_type": "code",
      "execution_count": 1,
      "metadata": {
        "colab": {
          "base_uri": "https://localhost:8080/"
        },
        "id": "pcmlPDTjnSzw",
        "outputId": "9e9fc7f2-0e36-460a-855b-9004914ef553"
      },
      "outputs": [
        {
          "output_type": "stream",
          "name": "stdout",
          "text": [
            "Fruits total: 36\n"
          ]
        }
      ],
      "source": [
        "def get_fruits_total(**fruits):\n",
        "    total_qty = 0\n",
        "\n",
        "    for qty in fruits.values():\n",
        "        total_qty += qty\n",
        "\n",
        "    return total_qty\n",
        "\n",
        "print(f'Fruits total: {get_fruits_total(apples=5, lemons=13, oranges=8, bananas=10)}')"
      ]
    },
    {
      "cell_type": "markdown",
      "source": [
        "## Условие 3:\n",
        "\n",
        "Дан список с затратами на рекламу. Но в данных есть ошибки, некоторые затраты имеют отрицательную величину. Удалите такие значения из списка и посчитайте суммарные затраты\n",
        "\n",
        "`[100, 125, -90, 345, 655, -1, 0, 200]`\n",
        "\n",
        "Используйте list comprehensions"
      ],
      "metadata": {
        "id": "LNDGBVZ7ph_c"
      }
    },
    {
      "cell_type": "code",
      "source": [
        "expenses = [100, 125, -90, 345, 655, -1, 0, 200]\n",
        "\n",
        "expenses_filtered = [val for val in expenses if val > 0]\n",
        "print(expenses_filtered)\n",
        "print(f'Total expenses: {sum(expenses_filtered)}')"
      ],
      "metadata": {
        "colab": {
          "base_uri": "https://localhost:8080/"
        },
        "id": "874gWXEermSo",
        "outputId": "43a50c16-eca0-4be7-ef88-bd15a5a32d16"
      },
      "execution_count": 2,
      "outputs": [
        {
          "output_type": "stream",
          "name": "stdout",
          "text": [
            "[100, 125, 345, 655, 200]\n",
            "Total expenses: 1425\n"
          ]
        }
      ]
    },
    {
      "cell_type": "markdown",
      "source": [
        "## Условие 4:\n",
        "\n",
        "Даны два списка.\n",
        "\n",
        "Дата покупки\n",
        "\n",
        "`['2021-09-14', '2021-12-15', '2021-09-08', '2021-12-05', '2021-10-09', '2021-09-30', '2021-12-22', '2021-11-29', '2021-12-24', '2021-11-26', '2021-10-27', '2021-12-18', '2021-11-09', '2021-11-23', '2021-09-27', '2021-10-02', '2021-12-27', '2021-09-20', '2021-12-13', '2021-11-01', '2021-11-09', '2021-12-06', '2021-12-08', '2021-10-09', '2021-10-31', '2021-09-30', '2021-11-09', '2021-12-13', '2021-10-26', '2021-12-09']`\n",
        "\n",
        "Суммы покупок по датам\n",
        "\n",
        "`[1270, 8413, 9028, 3703, 5739, 4095, 295, 4944, 5723, 3701, 4471, 651, 7037, 4274, 6275, 4988, 6930, 2971, 6592, 2004, 2822, 519, 3406, 2732, 5015, 2008, 316, 6333, 5700, 2887]`"
      ],
      "metadata": {
        "id": "ertNNWk6plNs"
      }
    },
    {
      "cell_type": "code",
      "source": [
        "purchase_dates = ['2021-09-14', '2021-12-15', '2021-09-08', '2021-12-05', '2021-10-09', \n",
        "                  '2021-09-30', '2021-12-22', '2021-11-29', '2021-12-24', '2021-11-26', \n",
        "                  '2021-10-27', '2021-12-18', '2021-11-09', '2021-11-23', '2021-09-27', \n",
        "                  '2021-10-02', '2021-12-27', '2021-09-20', '2021-12-13', '2021-11-01', \n",
        "                  '2021-11-09', '2021-12-06', '2021-12-08', '2021-10-09', '2021-10-31', \n",
        "                  '2021-09-30', '2021-11-09', '2021-12-13', '2021-10-26', '2021-12-09']\n",
        "purchases = [1270, 8413, 9028, 3703, 5739, \n",
        "             4095, 295, 4944, 5723, 3701, \n",
        "             4471, 651, 7037, 4274, 6275, \n",
        "             4988, 6930, 2971, 6592, 2004, \n",
        "             2822, 519, 3406, 2732, 5015, \n",
        "             2008, 316, 6333, 5700, 2887]"
      ],
      "metadata": {
        "id": "xsSsHfRztNX3"
      },
      "execution_count": 3,
      "outputs": []
    },
    {
      "cell_type": "markdown",
      "source": [
        "### Задание 4.1 \n",
        "\n",
        "Найдите, какая выручка у компании в ноябре.\n",
        "\n",
        "Используйте list comprehensions."
      ],
      "metadata": {
        "id": "Dyarp7iTtHHF"
      }
    },
    {
      "cell_type": "code",
      "source": [
        "sales_november = sum([purchases[i] for i in range(len(purchase_dates)) if purchase_dates[i][5:7] == '11'])\n",
        "print(f'Sales in November: {sales_november}')"
      ],
      "metadata": {
        "colab": {
          "base_uri": "https://localhost:8080/"
        },
        "id": "w9gjYguZur5_",
        "outputId": "235e0705-bc42-4024-e864-619c6c8c4756"
      },
      "execution_count": 4,
      "outputs": [
        {
          "output_type": "stream",
          "name": "stdout",
          "text": [
            "Sales in November: 25098\n"
          ]
        }
      ]
    },
    {
      "cell_type": "markdown",
      "source": [
        "### Задание 4.2 \n",
        "\n",
        "Найдите выручку компании в зависимости от месяца.\n",
        "\n",
        "Для этого напишите функцию, которая на вход принимает список с датами и список с выручкой, а на выходе словарь, где ключи - это месяцы, а значения - это выручка.\n",
        "\n",
        "Используйте аннотирование типов."
      ],
      "metadata": {
        "id": "KKTLneTatLir"
      }
    },
    {
      "cell_type": "code",
      "source": [
        "def get_monthly_sales(dates: list, purchs: list) -> dict:\n",
        "    sales = dict()\n",
        "\n",
        "    for i in range(len(dates)):\n",
        "        m_key = dates[i][5:7]\n",
        "        sales[m_key] = sales.get(m_key, 0) + purchs[i]\n",
        "\n",
        "    return sales\n",
        "\n",
        "monthly_sales = get_monthly_sales(purchase_dates, purchases)\n",
        "monthly_sales"
      ],
      "metadata": {
        "colab": {
          "base_uri": "https://localhost:8080/"
        },
        "id": "ro9EYTVIyJp0",
        "outputId": "38ff7a9d-9bc2-42c5-ed7f-19db7498134b"
      },
      "execution_count": 5,
      "outputs": [
        {
          "output_type": "execute_result",
          "data": {
            "text/plain": [
              "{'09': 25647, '12': 45452, '10': 28645, '11': 25098}"
            ]
          },
          "metadata": {},
          "execution_count": 5
        }
      ]
    }
  ]
}